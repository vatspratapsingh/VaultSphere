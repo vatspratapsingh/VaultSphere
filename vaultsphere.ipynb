{
  "nbformat": 4,
  "nbformat_minor": 0,
  "metadata": {
    "colab": {
      "provenance": [],
      "gpuType": "T4"
    },
    "kernelspec": {
      "name": "python3",
      "display_name": "Python 3"
    },
    "language_info": {
      "name": "python"
    },
    "accelerator": "GPU"
  },
  "cells": [
    {
      "cell_type": "code",
      "source": [
        "from google.colab import drive\n",
        "drive.mount('/content/drive', force_remount=True)"
      ],
      "metadata": {
        "colab": {
          "base_uri": "https://localhost:8080/"
        },
        "id": "8P4FReHTz2H3",
        "outputId": "59b35c57-ada4-4d1e-bc95-126190b81153"
      },
      "execution_count": null,
      "outputs": [
        {
          "output_type": "stream",
          "name": "stdout",
          "text": [
            "Mounted at /content/drive\n"
          ]
        }
      ]
    },
    {
      "cell_type": "code",
      "source": [
        "!head -n 10 UNSW_NB15_training-set.csv"
      ],
      "metadata": {
        "colab": {
          "base_uri": "https://localhost:8080/"
        },
        "id": "2fSR6_100h2K",
        "outputId": "2df22e98-f0ad-48c9-b4b4-fc0f31f71fde"
      },
      "execution_count": null,
      "outputs": [
        {
          "output_type": "stream",
          "name": "stdout",
          "text": [
            "﻿id,dur,proto,service,state,spkts,dpkts,sbytes,dbytes,rate,sttl,dttl,sload,dload,sloss,dloss,sinpkt,dinpkt,sjit,djit,swin,stcpb,dtcpb,dwin,tcprtt,synack,ackdat,smean,dmean,trans_depth,response_body_len,ct_srv_src,ct_state_ttl,ct_dst_ltm,ct_src_dport_ltm,ct_dst_sport_ltm,ct_dst_src_ltm,is_ftp_login,ct_ftp_cmd,ct_flw_http_mthd,ct_src_ltm,ct_srv_dst,is_sm_ips_ports,attack_cat,label\r\n",
            "1,0.121478,tcp,-,FIN,6,4,258,172,74.08749,252,254,14158.94238,8495.365234,0,0,24.2956,8.375,30.177547,11.830604,255,621772692,2202533631,255,0,0,0,43,43,0,0,1,0,1,1,1,1,0,0,0,1,1,0,Normal,0\r\n",
            "2,0.649902,tcp,-,FIN,14,38,734,42014,78.473372,62,252,8395.112305,503571.3125,2,17,49.915,15.432865,61.426934,1387.77833,255,1417884146,3077387971,255,0,0,0,52,1106,0,0,43,1,1,1,1,2,0,0,0,1,6,0,Normal,0\r\n",
            "3,1.623129,tcp,-,FIN,8,16,364,13186,14.170161,62,252,1572.271851,60929.23047,1,6,231.875571,102.737203,17179.58686,11420.92623,255,2116150707,2963114973,255,0.111897,0.061458,0.050439,46,824,0,0,7,1,2,1,1,3,0,0,0,2,6,0,Normal,0\r\n",
            "4,1.681642,tcp,ftp,FIN,12,12,628,770,13.677108,62,252,2740.178955,3358.62207,1,3,152.876547,90.235726,259.080172,4991.784669,255,1107119177,1047442890,255,0,0,0,52,64,0,0,1,1,2,1,1,3,1,1,0,2,1,0,Normal,0\r\n",
            "5,0.449454,tcp,-,FIN,10,6,534,268,33.373826,254,252,8561.499023,3987.059814,2,1,47.750333,75.659602,2415.837634,115.807,255,2436137549,1977154190,255,0.128381,0.071147,0.057234,53,45,0,0,43,1,2,2,1,40,0,0,0,2,39,0,Normal,0\r\n",
            "6,0.380537,tcp,-,FIN,10,6,534,268,39.41798,254,252,10112.02539,4709.134766,2,1,39.928778,52.241,2223.730342,82.5505,255,3984155503,1796040391,255,0.172934,0.119331,0.053603,53,45,0,0,43,1,2,2,1,40,0,0,0,2,39,0,Normal,0\r\n",
            "7,0.637109,tcp,-,FIN,10,8,534,354,26.683033,254,252,6039.783203,3892.58374,2,1,68.267778,81.137711,4286.82857,119.422719,255,1787309226,1767180493,255,0.143337,0.069136,0.074201,53,44,0,0,43,1,1,1,1,40,0,0,0,1,39,0,Normal,0\r\n",
            "8,0.521584,tcp,-,FIN,10,8,534,354,32.593026,254,252,7377.527344,4754.74707,2,1,55.794,66.054141,3770.580726,118.962633,255,205985702,316006300,255,0.116615,0.059195,0.05742,53,44,0,0,43,1,3,3,1,40,0,0,0,3,39,0,Normal,0\r\n",
            "9,0.542905,tcp,-,FIN,10,8,534,354,31.313031,254,252,7087.796387,4568.018555,2,1,60.210889,68.109,4060.625597,106.611547,255,884094874,3410317203,255,0.118584,0.066133,0.052451,53,44,0,0,43,1,3,3,1,40,0,0,0,3,39,0,Normal,0\r\n"
          ]
        }
      ]
    },
    {
      "cell_type": "code",
      "source": [
        "import pandas as pd\n",
        "\n",
        "# -------------------------\n",
        "# 1️⃣ KDD Cup 1999\n",
        "# -------------------------\n",
        "kdd_columns = [\n",
        "    'duration','protocol_type','service','flag','src_bytes','dst_bytes','land','wrong_fragment','urgent',\n",
        "    'hot','num_failed_logins','logged_in','num_compromised','root_shell','su_attempted','num_root','num_file_creations',\n",
        "    'num_shells','num_access_files','num_outbound_cmds','is_host_login','is_guest_login','count','srv_count',\n",
        "    'serror_rate','srv_serror_rate','rerror_rate','srv_rerror_rate','same_srv_rate','diff_srv_rate','srv_diff_host_rate',\n",
        "    'dst_host_count','dst_host_srv_count','dst_host_same_srv_rate','dst_host_diff_srv_rate','dst_host_same_src_port_rate',\n",
        "    'dst_host_srv_diff_host_rate','dst_host_serror_rate','dst_host_srv_serror_rate','dst_host_rerror_rate','dst_host_srv_rerror_rate','label'\n",
        "]\n",
        "\n",
        "# Load KDD datasets\n",
        "kdd_train = pd.read_csv('kddcup.data_10_percent', names=kdd_columns)\n",
        "kdd_test = pd.read_csv('corrected', names=kdd_columns)\n",
        "\n",
        "# Convert labels to binary: 0=normal, 1=attack\n",
        "kdd_train['label'] = kdd_train['label'].apply(lambda x: 0 if x.strip() == 'normal.' else 1)\n",
        "kdd_test['label'] = kdd_test['label'].apply(lambda x: 0 if x.strip() == 'normal.' else 1)\n",
        "\n",
        "print(\"✅ KDD train shape:\", kdd_train.shape)\n",
        "print(\"✅ KDD test shape:\", kdd_test.shape)\n",
        "\n",
        "# -------------------------\n",
        "# 2️⃣ UNSW-NB15\n",
        "# -------------------------\n",
        "# Use engine='python' to avoid parsing errors\n",
        "unsw_train = pd.read_csv('UNSW_NB15_training-set.csv', engine='python')\n",
        "unsw_test = pd.read_csv('UNSW_NB15_testing-set.csv', engine='python')\n",
        "\n",
        "# Check label column name\n",
        "print(\"Columns in UNSW train:\", unsw_train.columns)\n",
        "\n",
        "# Convert labels to binary: Normal=0, Attack=1\n",
        "# Adjust the column name if needed; often it's 'label' or 'attack_cat'\n",
        "label_column = 'label'  # change if your CSV uses a different name\n",
        "unsw_train['label'] = unsw_train[label_column].apply(lambda x: 0 if str(x).strip().lower()=='normal' else 1)\n",
        "unsw_test['label'] = unsw_test[label_column].apply(lambda x: 0 if str(x).strip().lower()=='normal' else 1)\n",
        "\n",
        "print(\"✅ UNSW train shape:\", unsw_train.shape)\n",
        "print(\"✅ UNSW test shape:\", unsw_test.shape)"
      ],
      "metadata": {
        "colab": {
          "base_uri": "https://localhost:8080/"
        },
        "id": "6c52NFNn3u8c",
        "outputId": "eccdf411-54ce-4cd7-f1e9-308bce18b759"
      },
      "execution_count": null,
      "outputs": [
        {
          "output_type": "stream",
          "name": "stdout",
          "text": [
            "✅ KDD train shape: (494021, 42)\n",
            "✅ KDD test shape: (311029, 42)\n",
            "Columns in UNSW train: Index(['id', 'dur', 'proto', 'service', 'state', 'spkts', 'dpkts', 'sbytes',\n",
            "       'dbytes', 'rate', 'sttl', 'dttl', 'sload', 'dload', 'sloss', 'dloss',\n",
            "       'sinpkt', 'dinpkt', 'sjit', 'djit', 'swin', 'stcpb', 'dtcpb', 'dwin',\n",
            "       'tcprtt', 'synack', 'ackdat', 'smean', 'dmean', 'trans_depth',\n",
            "       'response_body_len', 'ct_srv_src', 'ct_state_ttl', 'ct_dst_ltm',\n",
            "       'ct_src_dport_ltm', 'ct_dst_sport_ltm', 'ct_dst_src_ltm',\n",
            "       'is_ftp_login', 'ct_ftp_cmd', 'ct_flw_http_mthd', 'ct_src_ltm',\n",
            "       'ct_srv_dst', 'is_sm_ips_ports', 'attack_cat', 'label'],\n",
            "      dtype='object')\n",
            "✅ UNSW train shape: (175341, 45)\n",
            "✅ UNSW test shape: (82332, 45)\n"
          ]
        }
      ]
    },
    {
      "cell_type": "code",
      "source": [
        "# KDD features and labels\n",
        "X_kdd_train = kdd_train.drop('label', axis=1)\n",
        "y_kdd_train = kdd_train['label']\n",
        "X_kdd_test = kdd_test.drop('label', axis=1)\n",
        "y_kdd_test = kdd_test['label']\n",
        "\n",
        "# UNSW features and labels\n",
        "feature_cols = [col for col in unsw_train.columns if col not in ['label', 'attack_cat', 'id']]\n",
        "X_unsw_train = unsw_train[feature_cols]\n",
        "y_unsw_train = unsw_train['label']\n",
        "X_unsw_test = unsw_test[feature_cols]\n",
        "y_unsw_test = unsw_test['label']"
      ],
      "metadata": {
        "id": "4SM3czx-4FUa"
      },
      "execution_count": null,
      "outputs": []
    },
    {
      "cell_type": "code",
      "source": [
        "from sklearn.preprocessing import OneHotEncoder\n",
        "\n",
        "# KDD categorical features\n",
        "kdd_cat_cols = ['protocol_type','service','flag']\n",
        "kdd_encoder = OneHotEncoder(sparse_output=False, handle_unknown='ignore')\n",
        "X_kdd_train_cat = kdd_encoder.fit_transform(X_kdd_train[kdd_cat_cols])\n",
        "X_kdd_test_cat = kdd_encoder.transform(X_kdd_test[kdd_cat_cols])\n",
        "\n",
        "# Drop original categorical columns and concat one-hot\n",
        "X_kdd_train = pd.concat([X_kdd_train.drop(kdd_cat_cols, axis=1).reset_index(drop=True),\n",
        "                         pd.DataFrame(X_kdd_train_cat)], axis=1)\n",
        "X_kdd_test = pd.concat([X_kdd_test.drop(kdd_cat_cols, axis=1).reset_index(drop=True),\n",
        "                        pd.DataFrame(X_kdd_test_cat)], axis=1)\n",
        "\n",
        "# UNSW categorical features\n",
        "unsw_cat_cols = ['proto','service','state']\n",
        "unsw_encoder = OneHotEncoder(sparse_output=False, handle_unknown='ignore')\n",
        "X_unsw_train_cat = unsw_encoder.fit_transform(X_unsw_train[unsw_cat_cols])\n",
        "X_unsw_test_cat = unsw_encoder.transform(X_unsw_test[unsw_cat_cols])\n",
        "\n",
        "# Drop original categorical columns and concat one-hot\n",
        "X_unsw_train = pd.concat([X_unsw_train.drop(unsw_cat_cols, axis=1).reset_index(drop=True),\n",
        "                          pd.DataFrame(X_unsw_train_cat)], axis=1)\n",
        "X_unsw_test = pd.concat([X_unsw_test.drop(unsw_cat_cols, axis=1).reset_index(drop=True),\n",
        "                         pd.DataFrame(X_unsw_test_cat)], axis=1)"
      ],
      "metadata": {
        "id": "Os-pjwM_4aBr"
      },
      "execution_count": null,
      "outputs": []
    },
    {
      "cell_type": "code",
      "source": [
        "# Make all column names strings\n",
        "X_kdd_train.columns = X_kdd_train.columns.astype(str)\n",
        "X_kdd_test.columns = X_kdd_test.columns.astype(str)"
      ],
      "metadata": {
        "id": "QXnZb3vg4vYN"
      },
      "execution_count": null,
      "outputs": []
    },
    {
      "cell_type": "code",
      "source": [
        "X_kdd_train_np = X_kdd_train.values\n",
        "X_kdd_test_np = X_kdd_test.values"
      ],
      "metadata": {
        "id": "kHwd85Ao46hc"
      },
      "execution_count": null,
      "outputs": []
    },
    {
      "cell_type": "code",
      "source": [
        "from sklearn.ensemble import IsolationForest\n",
        "from sklearn.metrics import classification_report\n",
        "\n",
        "iso = IsolationForest(n_estimators=100, contamination=0.1, random_state=42)\n",
        "iso.fit(X_kdd_train_np)\n",
        "\n",
        "# Predict anomalies\n",
        "y_pred = iso.predict(X_kdd_test_np)\n",
        "y_pred = [0 if i==1 else 1 for i in y_pred]  # convert to 0=normal, 1=anomaly\n",
        "\n",
        "print(classification_report(y_kdd_test, y_pred))"
      ],
      "metadata": {
        "colab": {
          "base_uri": "https://localhost:8080/"
        },
        "id": "GugldHan49qG",
        "outputId": "b35cb30b-f9e0-428b-c0e7-54177a4f66d4"
      },
      "execution_count": null,
      "outputs": [
        {
          "output_type": "stream",
          "name": "stdout",
          "text": [
            "              precision    recall  f1-score   support\n",
            "\n",
            "           0       0.22      0.92      0.35     60593\n",
            "           1       0.91      0.19      0.31    250436\n",
            "\n",
            "    accuracy                           0.33    311029\n",
            "   macro avg       0.56      0.55      0.33    311029\n",
            "weighted avg       0.77      0.33      0.32    311029\n",
            "\n"
          ]
        }
      ]
    },
    {
      "cell_type": "code",
      "source": [
        "import pandas as pd\n",
        "import numpy as np\n",
        "from sklearn.preprocessing import OneHotEncoder, MinMaxScaler\n",
        "from sklearn.ensemble import IsolationForest, RandomForestClassifier\n",
        "from sklearn.metrics import classification_report\n",
        "from tensorflow.keras.models import Sequential\n",
        "from tensorflow.keras.layers import LSTM, Dense, RepeatVector, TimeDistributed\n",
        "from tensorflow.keras.optimizers import Adam"
      ],
      "metadata": {
        "id": "k41UyXq94_jw"
      },
      "execution_count": null,
      "outputs": []
    },
    {
      "cell_type": "code",
      "source": [
        "# Convert to NumPy\n",
        "X_kdd_train_np = X_kdd_train.values\n",
        "X_kdd_test_np = X_kdd_test.values\n",
        "\n",
        "iso = IsolationForest(n_estimators=100, contamination=0.1, random_state=42)\n",
        "iso.fit(X_kdd_train_np)\n",
        "\n",
        "y_pred_iso = iso.predict(X_kdd_test_np)\n",
        "y_pred_iso = [0 if i==1 else 1 for i in y_pred_iso]  # convert to 0=normal, 1=anomaly\n",
        "\n",
        "print(\"Isolation Forest (KDD) Results:\")\n",
        "print(classification_report(y_kdd_test, y_pred_iso))"
      ],
      "metadata": {
        "colab": {
          "base_uri": "https://localhost:8080/"
        },
        "id": "nQlFVVg15Tzl",
        "outputId": "d9f4c9f4-c972-45c6-d5a0-2b901f89ea64"
      },
      "execution_count": null,
      "outputs": [
        {
          "output_type": "stream",
          "name": "stdout",
          "text": [
            "Isolation Forest (KDD) Results:\n",
            "              precision    recall  f1-score   support\n",
            "\n",
            "           0       0.22      0.92      0.35     60593\n",
            "           1       0.91      0.19      0.31    250436\n",
            "\n",
            "    accuracy                           0.33    311029\n",
            "   macro avg       0.56      0.55      0.33    311029\n",
            "weighted avg       0.77      0.33      0.32    311029\n",
            "\n"
          ]
        }
      ]
    },
    {
      "cell_type": "code",
      "source": [
        "rf = RandomForestClassifier(n_estimators=100, random_state=42)\n",
        "rf.fit(X_kdd_train_np, y_kdd_train)\n",
        "\n",
        "y_pred_rf = rf.predict(X_kdd_test_np)\n",
        "print(\"Random Forest (KDD) Results:\")\n",
        "print(classification_report(y_kdd_test, y_pred_rf))"
      ],
      "metadata": {
        "colab": {
          "base_uri": "https://localhost:8080/"
        },
        "id": "Eevf2u6F5VrH",
        "outputId": "ffa461a8-d2d5-46d9-db11-f59f4847e087"
      },
      "execution_count": null,
      "outputs": [
        {
          "output_type": "stream",
          "name": "stdout",
          "text": [
            "Random Forest (KDD) Results:\n",
            "              precision    recall  f1-score   support\n",
            "\n",
            "           0       0.73      1.00      0.84     60593\n",
            "           1       1.00      0.91      0.95    250436\n",
            "\n",
            "    accuracy                           0.93    311029\n",
            "   macro avg       0.86      0.95      0.90    311029\n",
            "weighted avg       0.95      0.93      0.93    311029\n",
            "\n"
          ]
        }
      ]
    },
    {
      "cell_type": "code",
      "source": [
        "import pandas as pd\n",
        "\n",
        "# Load dataset\n",
        "vaultsphere_df = pd.read_csv(\"synthetic_vaultsphere_logs.csv\")"
      ],
      "metadata": {
        "id": "ccIob-P0tidP"
      },
      "execution_count": null,
      "outputs": []
    },
    {
      "cell_type": "code",
      "source": [
        "from sklearn.preprocessing import LabelEncoder\n",
        "\n",
        "le = LabelEncoder()\n",
        "vaultsphere_df['resource_id_encoded'] = le.fit_transform(vaultsphere_df['resource_id'])\n",
        "\n",
        "# Now use numeric column\n",
        "vault_num = vaultsphere_df[['resource_id_encoded']].values"
      ],
      "metadata": {
        "id": "ehjPGAk25gWL"
      },
      "execution_count": null,
      "outputs": []
    },
    {
      "cell_type": "code",
      "source": [
        "from sklearn.preprocessing import OneHotEncoder\n",
        "\n",
        "cat_cols = ['event_type', 'status']\n",
        "encoder = OneHotEncoder(sparse_output=False)\n",
        "vault_cat = encoder.fit_transform(vaultsphere_df[cat_cols])"
      ],
      "metadata": {
        "id": "srVf4KGU5x5R"
      },
      "execution_count": null,
      "outputs": []
    },
    {
      "cell_type": "code",
      "source": [
        "import numpy as np\n",
        "from sklearn.preprocessing import MinMaxScaler\n",
        "\n",
        "X_vault = np.hstack([vault_num, vault_cat])\n",
        "\n",
        "scaler = MinMaxScaler()\n",
        "X_vault_scaled = scaler.fit_transform(X_vault)"
      ],
      "metadata": {
        "id": "oHQRuRfn5zp-"
      },
      "execution_count": null,
      "outputs": []
    },
    {
      "cell_type": "code",
      "source": [
        "seq_length = 10  # number of events in a sequence\n",
        "\n",
        "def create_sequences(data, seq_length):\n",
        "    sequences = []\n",
        "    for i in range(len(data)-seq_length):\n",
        "        sequences.append(data[i:i+seq_length])\n",
        "    return np.array(sequences)\n",
        "\n",
        "X_seq = create_sequences(X_vault_scaled, seq_length)\n",
        "\n",
        "print(\"LSTM input shape:\", X_seq.shape)  # should be (num_sequences, seq_length, num_features)"
      ],
      "metadata": {
        "colab": {
          "base_uri": "https://localhost:8080/"
        },
        "id": "kKEgrJjl507T",
        "outputId": "e1a3bd3d-b102-4b54-9803-861fe0021d10"
      },
      "execution_count": null,
      "outputs": [
        {
          "output_type": "stream",
          "name": "stdout",
          "text": [
            "LSTM input shape: (16258, 10, 12)\n"
          ]
        }
      ]
    },
    {
      "cell_type": "code",
      "source": [
        "from tensorflow.keras.models import Sequential\n",
        "from tensorflow.keras.layers import LSTM, RepeatVector, TimeDistributed, Dense\n",
        "from tensorflow.keras.optimizers import Adam\n",
        "\n",
        "timesteps, features = X_seq.shape[1], X_seq.shape[2]\n",
        "\n",
        "model = Sequential([\n",
        "    LSTM(64, activation='relu', input_shape=(timesteps, features), return_sequences=False),\n",
        "    RepeatVector(timesteps),\n",
        "    LSTM(64, activation='relu', return_sequences=True),\n",
        "    TimeDistributed(Dense(features))\n",
        "])\n",
        "\n",
        "model.compile(optimizer=Adam(learning_rate=0.001), loss='mse')\n",
        "model.summary()"
      ],
      "metadata": {
        "colab": {
          "base_uri": "https://localhost:8080/",
          "height": 337
        },
        "id": "ADuB4MNh55kh",
        "outputId": "e1e24877-2f7e-4100-f0bb-a09ca64ae92a"
      },
      "execution_count": null,
      "outputs": [
        {
          "output_type": "stream",
          "name": "stderr",
          "text": [
            "/usr/local/lib/python3.12/dist-packages/keras/src/layers/rnn/rnn.py:199: UserWarning: Do not pass an `input_shape`/`input_dim` argument to a layer. When using Sequential models, prefer using an `Input(shape)` object as the first layer in the model instead.\n",
            "  super().__init__(**kwargs)\n"
          ]
        },
        {
          "output_type": "display_data",
          "data": {
            "text/plain": [
              "\u001b[1mModel: \"sequential\"\u001b[0m\n"
            ],
            "text/html": [
              "<pre style=\"white-space:pre;overflow-x:auto;line-height:normal;font-family:Menlo,'DejaVu Sans Mono',consolas,'Courier New',monospace\"><span style=\"font-weight: bold\">Model: \"sequential\"</span>\n",
              "</pre>\n"
            ]
          },
          "metadata": {}
        },
        {
          "output_type": "display_data",
          "data": {
            "text/plain": [
              "┏━━━━━━━━━━━━━━━━━━━━━━━━━━━━━━━━━┳━━━━━━━━━━━━━━━━━━━━━━━━┳━━━━━━━━━━━━━━━┓\n",
              "┃\u001b[1m \u001b[0m\u001b[1mLayer (type)                   \u001b[0m\u001b[1m \u001b[0m┃\u001b[1m \u001b[0m\u001b[1mOutput Shape          \u001b[0m\u001b[1m \u001b[0m┃\u001b[1m \u001b[0m\u001b[1m      Param #\u001b[0m\u001b[1m \u001b[0m┃\n",
              "┡━━━━━━━━━━━━━━━━━━━━━━━━━━━━━━━━━╇━━━━━━━━━━━━━━━━━━━━━━━━╇━━━━━━━━━━━━━━━┩\n",
              "│ lstm (\u001b[38;5;33mLSTM\u001b[0m)                     │ (\u001b[38;5;45mNone\u001b[0m, \u001b[38;5;34m64\u001b[0m)             │        \u001b[38;5;34m19,712\u001b[0m │\n",
              "├─────────────────────────────────┼────────────────────────┼───────────────┤\n",
              "│ repeat_vector (\u001b[38;5;33mRepeatVector\u001b[0m)    │ (\u001b[38;5;45mNone\u001b[0m, \u001b[38;5;34m10\u001b[0m, \u001b[38;5;34m64\u001b[0m)         │             \u001b[38;5;34m0\u001b[0m │\n",
              "├─────────────────────────────────┼────────────────────────┼───────────────┤\n",
              "│ lstm_1 (\u001b[38;5;33mLSTM\u001b[0m)                   │ (\u001b[38;5;45mNone\u001b[0m, \u001b[38;5;34m10\u001b[0m, \u001b[38;5;34m64\u001b[0m)         │        \u001b[38;5;34m33,024\u001b[0m │\n",
              "├─────────────────────────────────┼────────────────────────┼───────────────┤\n",
              "│ time_distributed                │ (\u001b[38;5;45mNone\u001b[0m, \u001b[38;5;34m10\u001b[0m, \u001b[38;5;34m12\u001b[0m)         │           \u001b[38;5;34m780\u001b[0m │\n",
              "│ (\u001b[38;5;33mTimeDistributed\u001b[0m)               │                        │               │\n",
              "└─────────────────────────────────┴────────────────────────┴───────────────┘\n"
            ],
            "text/html": [
              "<pre style=\"white-space:pre;overflow-x:auto;line-height:normal;font-family:Menlo,'DejaVu Sans Mono',consolas,'Courier New',monospace\">┏━━━━━━━━━━━━━━━━━━━━━━━━━━━━━━━━━┳━━━━━━━━━━━━━━━━━━━━━━━━┳━━━━━━━━━━━━━━━┓\n",
              "┃<span style=\"font-weight: bold\"> Layer (type)                    </span>┃<span style=\"font-weight: bold\"> Output Shape           </span>┃<span style=\"font-weight: bold\">       Param # </span>┃\n",
              "┡━━━━━━━━━━━━━━━━━━━━━━━━━━━━━━━━━╇━━━━━━━━━━━━━━━━━━━━━━━━╇━━━━━━━━━━━━━━━┩\n",
              "│ lstm (<span style=\"color: #0087ff; text-decoration-color: #0087ff\">LSTM</span>)                     │ (<span style=\"color: #00d7ff; text-decoration-color: #00d7ff\">None</span>, <span style=\"color: #00af00; text-decoration-color: #00af00\">64</span>)             │        <span style=\"color: #00af00; text-decoration-color: #00af00\">19,712</span> │\n",
              "├─────────────────────────────────┼────────────────────────┼───────────────┤\n",
              "│ repeat_vector (<span style=\"color: #0087ff; text-decoration-color: #0087ff\">RepeatVector</span>)    │ (<span style=\"color: #00d7ff; text-decoration-color: #00d7ff\">None</span>, <span style=\"color: #00af00; text-decoration-color: #00af00\">10</span>, <span style=\"color: #00af00; text-decoration-color: #00af00\">64</span>)         │             <span style=\"color: #00af00; text-decoration-color: #00af00\">0</span> │\n",
              "├─────────────────────────────────┼────────────────────────┼───────────────┤\n",
              "│ lstm_1 (<span style=\"color: #0087ff; text-decoration-color: #0087ff\">LSTM</span>)                   │ (<span style=\"color: #00d7ff; text-decoration-color: #00d7ff\">None</span>, <span style=\"color: #00af00; text-decoration-color: #00af00\">10</span>, <span style=\"color: #00af00; text-decoration-color: #00af00\">64</span>)         │        <span style=\"color: #00af00; text-decoration-color: #00af00\">33,024</span> │\n",
              "├─────────────────────────────────┼────────────────────────┼───────────────┤\n",
              "│ time_distributed                │ (<span style=\"color: #00d7ff; text-decoration-color: #00d7ff\">None</span>, <span style=\"color: #00af00; text-decoration-color: #00af00\">10</span>, <span style=\"color: #00af00; text-decoration-color: #00af00\">12</span>)         │           <span style=\"color: #00af00; text-decoration-color: #00af00\">780</span> │\n",
              "│ (<span style=\"color: #0087ff; text-decoration-color: #0087ff\">TimeDistributed</span>)               │                        │               │\n",
              "└─────────────────────────────────┴────────────────────────┴───────────────┘\n",
              "</pre>\n"
            ]
          },
          "metadata": {}
        },
        {
          "output_type": "display_data",
          "data": {
            "text/plain": [
              "\u001b[1m Total params: \u001b[0m\u001b[38;5;34m53,516\u001b[0m (209.05 KB)\n"
            ],
            "text/html": [
              "<pre style=\"white-space:pre;overflow-x:auto;line-height:normal;font-family:Menlo,'DejaVu Sans Mono',consolas,'Courier New',monospace\"><span style=\"font-weight: bold\"> Total params: </span><span style=\"color: #00af00; text-decoration-color: #00af00\">53,516</span> (209.05 KB)\n",
              "</pre>\n"
            ]
          },
          "metadata": {}
        },
        {
          "output_type": "display_data",
          "data": {
            "text/plain": [
              "\u001b[1m Trainable params: \u001b[0m\u001b[38;5;34m53,516\u001b[0m (209.05 KB)\n"
            ],
            "text/html": [
              "<pre style=\"white-space:pre;overflow-x:auto;line-height:normal;font-family:Menlo,'DejaVu Sans Mono',consolas,'Courier New',monospace\"><span style=\"font-weight: bold\"> Trainable params: </span><span style=\"color: #00af00; text-decoration-color: #00af00\">53,516</span> (209.05 KB)\n",
              "</pre>\n"
            ]
          },
          "metadata": {}
        },
        {
          "output_type": "display_data",
          "data": {
            "text/plain": [
              "\u001b[1m Non-trainable params: \u001b[0m\u001b[38;5;34m0\u001b[0m (0.00 B)\n"
            ],
            "text/html": [
              "<pre style=\"white-space:pre;overflow-x:auto;line-height:normal;font-family:Menlo,'DejaVu Sans Mono',consolas,'Courier New',monospace\"><span style=\"font-weight: bold\"> Non-trainable params: </span><span style=\"color: #00af00; text-decoration-color: #00af00\">0</span> (0.00 B)\n",
              "</pre>\n"
            ]
          },
          "metadata": {}
        }
      ]
    },
    {
      "cell_type": "code",
      "source": [
        "history = model.fit(\n",
        "    X_seq, X_seq,\n",
        "    epochs=20,\n",
        "    batch_size=256,\n",
        "    validation_split=0.1\n",
        ")"
      ],
      "metadata": {
        "colab": {
          "base_uri": "https://localhost:8080/"
        },
        "id": "MY4nN84R58Sn",
        "outputId": "3daa9475-f48d-44fe-b50a-7f02b35cc9a3"
      },
      "execution_count": null,
      "outputs": [
        {
          "output_type": "stream",
          "name": "stdout",
          "text": [
            "Epoch 1/20\n",
            "\u001b[1m58/58\u001b[0m \u001b[32m━━━━━━━━━━━━━━━━━━━━\u001b[0m\u001b[37m\u001b[0m \u001b[1m10s\u001b[0m 76ms/step - loss: 0.1437 - val_loss: 0.0924\n",
            "Epoch 2/20\n",
            "\u001b[1m58/58\u001b[0m \u001b[32m━━━━━━━━━━━━━━━━━━━━\u001b[0m\u001b[37m\u001b[0m \u001b[1m0s\u001b[0m 7ms/step - loss: 0.0905 - val_loss: 0.0824\n",
            "Epoch 3/20\n",
            "\u001b[1m58/58\u001b[0m \u001b[32m━━━━━━━━━━━━━━━━━━━━\u001b[0m\u001b[37m\u001b[0m \u001b[1m0s\u001b[0m 6ms/step - loss: 0.0837 - val_loss: 0.0799\n",
            "Epoch 4/20\n",
            "\u001b[1m58/58\u001b[0m \u001b[32m━━━━━━━━━━━━━━━━━━━━\u001b[0m\u001b[37m\u001b[0m \u001b[1m0s\u001b[0m 6ms/step - loss: 0.0815 - val_loss: 0.0785\n",
            "Epoch 5/20\n",
            "\u001b[1m58/58\u001b[0m \u001b[32m━━━━━━━━━━━━━━━━━━━━\u001b[0m\u001b[37m\u001b[0m \u001b[1m0s\u001b[0m 6ms/step - loss: 0.0802 - val_loss: 0.0770\n",
            "Epoch 6/20\n",
            "\u001b[1m58/58\u001b[0m \u001b[32m━━━━━━━━━━━━━━━━━━━━\u001b[0m\u001b[37m\u001b[0m \u001b[1m0s\u001b[0m 5ms/step - loss: 0.0791 - val_loss: 0.0758\n",
            "Epoch 7/20\n",
            "\u001b[1m58/58\u001b[0m \u001b[32m━━━━━━━━━━━━━━━━━━━━\u001b[0m\u001b[37m\u001b[0m \u001b[1m0s\u001b[0m 5ms/step - loss: 0.0778 - val_loss: 0.0743\n",
            "Epoch 8/20\n",
            "\u001b[1m58/58\u001b[0m \u001b[32m━━━━━━━━━━━━━━━━━━━━\u001b[0m\u001b[37m\u001b[0m \u001b[1m0s\u001b[0m 6ms/step - loss: 0.0762 - val_loss: 0.0732\n",
            "Epoch 9/20\n",
            "\u001b[1m58/58\u001b[0m \u001b[32m━━━━━━━━━━━━━━━━━━━━\u001b[0m\u001b[37m\u001b[0m \u001b[1m0s\u001b[0m 7ms/step - loss: 0.0755 - val_loss: 0.0732\n",
            "Epoch 10/20\n",
            "\u001b[1m58/58\u001b[0m \u001b[32m━━━━━━━━━━━━━━━━━━━━\u001b[0m\u001b[37m\u001b[0m \u001b[1m0s\u001b[0m 8ms/step - loss: 0.0743 - val_loss: 0.0710\n",
            "Epoch 11/20\n",
            "\u001b[1m58/58\u001b[0m \u001b[32m━━━━━━━━━━━━━━━━━━━━\u001b[0m\u001b[37m\u001b[0m \u001b[1m0s\u001b[0m 7ms/step - loss: 0.0729 - val_loss: 0.0700\n",
            "Epoch 12/20\n",
            "\u001b[1m58/58\u001b[0m \u001b[32m━━━━━━━━━━━━━━━━━━━━\u001b[0m\u001b[37m\u001b[0m \u001b[1m1s\u001b[0m 8ms/step - loss: 0.0720 - val_loss: 0.0695\n",
            "Epoch 13/20\n",
            "\u001b[1m58/58\u001b[0m \u001b[32m━━━━━━━━━━━━━━━━━━━━\u001b[0m\u001b[37m\u001b[0m \u001b[1m0s\u001b[0m 8ms/step - loss: 0.0713 - val_loss: 0.0685\n",
            "Epoch 14/20\n",
            "\u001b[1m58/58\u001b[0m \u001b[32m━━━━━━━━━━━━━━━━━━━━\u001b[0m\u001b[37m\u001b[0m \u001b[1m1s\u001b[0m 6ms/step - loss: 0.0706 - val_loss: 0.0682\n",
            "Epoch 15/20\n",
            "\u001b[1m58/58\u001b[0m \u001b[32m━━━━━━━━━━━━━━━━━━━━\u001b[0m\u001b[37m\u001b[0m \u001b[1m0s\u001b[0m 6ms/step - loss: 0.0699 - val_loss: 0.0675\n",
            "Epoch 16/20\n",
            "\u001b[1m58/58\u001b[0m \u001b[32m━━━━━━━━━━━━━━━━━━━━\u001b[0m\u001b[37m\u001b[0m \u001b[1m0s\u001b[0m 5ms/step - loss: 0.0694 - val_loss: 0.0667\n",
            "Epoch 17/20\n",
            "\u001b[1m58/58\u001b[0m \u001b[32m━━━━━━━━━━━━━━━━━━━━\u001b[0m\u001b[37m\u001b[0m \u001b[1m0s\u001b[0m 5ms/step - loss: 0.0687 - val_loss: 0.0673\n",
            "Epoch 18/20\n",
            "\u001b[1m58/58\u001b[0m \u001b[32m━━━━━━━━━━━━━━━━━━━━\u001b[0m\u001b[37m\u001b[0m \u001b[1m0s\u001b[0m 5ms/step - loss: 0.0681 - val_loss: 0.0664\n",
            "Epoch 19/20\n",
            "\u001b[1m58/58\u001b[0m \u001b[32m━━━━━━━━━━━━━━━━━━━━\u001b[0m\u001b[37m\u001b[0m \u001b[1m1s\u001b[0m 5ms/step - loss: 0.0680 - val_loss: 0.0648\n",
            "Epoch 20/20\n",
            "\u001b[1m58/58\u001b[0m \u001b[32m━━━━━━━━━━━━━━━━━━━━\u001b[0m\u001b[37m\u001b[0m \u001b[1m0s\u001b[0m 5ms/step - loss: 0.0668 - val_loss: 0.0646\n"
          ]
        }
      ]
    },
    {
      "cell_type": "code",
      "source": [
        "# Predict reconstruction\n",
        "X_pred = model.predict(X_seq)\n",
        "\n",
        "# Compute MSE per sequence\n",
        "mse = np.mean(np.power(X_seq - X_pred, 2), axis=(1,2))\n",
        "\n",
        "# Set threshold (95th percentile)\n",
        "threshold = np.percentile(mse, 95)\n",
        "\n",
        "# Flag anomalies\n",
        "anomalies = mse > threshold\n",
        "\n",
        "print(f\"Detected {anomalies.sum()} anomalous sequences in VaultSphere logs\")"
      ],
      "metadata": {
        "colab": {
          "base_uri": "https://localhost:8080/"
        },
        "id": "zqwtek4B5_RZ",
        "outputId": "eaf54964-f901-41c6-c730-0f32cb1b30b5"
      },
      "execution_count": null,
      "outputs": [
        {
          "output_type": "stream",
          "name": "stdout",
          "text": [
            "\u001b[1m509/509\u001b[0m \u001b[32m━━━━━━━━━━━━━━━━━━━━\u001b[0m\u001b[37m\u001b[0m \u001b[1m2s\u001b[0m 3ms/step\n",
            "Detected 813 anomalous sequences in VaultSphere logs\n"
          ]
        }
      ]
    },
    {
      "cell_type": "code",
      "source": [
        "anomaly_indices = np.where(anomalies)[0]  # indices of anomalous sequences\n",
        "sequence_map = vaultsphere_df.iloc[seq_length-1:].reset_index()  # map sequences to original rows\n",
        "\n",
        "anomalous_rows = sequence_map.iloc[anomaly_indices]\n",
        "print(anomalous_rows[['timestamp','tenant_id','user_id','event_type','status']].head(10))"
      ],
      "metadata": {
        "colab": {
          "base_uri": "https://localhost:8080/"
        },
        "id": "NMUE1xxe7lwU",
        "outputId": "d61f1c3d-5d84-44f6-ff34-8dd64373df24"
      },
      "execution_count": null,
      "outputs": [
        {
          "output_type": "stream",
          "name": "stdout",
          "text": [
            "               timestamp  tenant_id  user_id    event_type   status\n",
            "143  2025-08-27 03:54:35          2  T02U038  ADMIN_ACTION  SUCCESS\n",
            "144  2025-08-27 04:07:11          1  T01U003         ORDER  SUCCESS\n",
            "145  2025-08-27 04:07:40          1  T01U010        UPDATE  SUCCESS\n",
            "146  2025-08-27 04:13:11          2  T02U021      DOWNLOAD  FAILURE\n",
            "147  2025-08-27 04:20:46          2  T02U044      DOWNLOAD  SUCCESS\n",
            "148  2025-08-27 04:37:29          1  T01U010        UPDATE  SUCCESS\n",
            "149  2025-08-27 04:39:07          1  T01U011         ORDER  SUCCESS\n",
            "214  2025-08-27 09:50:35          1  T01U033         LOGIN  SUCCESS\n",
            "215  2025-08-27 09:51:47          1  T01U035        UPDATE  SUCCESS\n",
            "216  2025-08-27 09:53:17          2  T02U009  ADMIN_ACTION  SUCCESS\n"
          ]
        }
      ]
    },
    {
      "cell_type": "code",
      "source": [
        "import matplotlib.pyplot as plt\n",
        "\n",
        "plt.figure(figsize=(12,4))\n",
        "plt.plot(mse, label='Reconstruction Error')\n",
        "plt.axhline(threshold, color='r', linestyle='--', label='Threshold')\n",
        "plt.title(\"VaultSphere Anomaly Detection\")\n",
        "plt.xlabel(\"Sequence Index\")\n",
        "plt.ylabel(\"MSE\")\n",
        "plt.legend()\n",
        "plt.show()"
      ],
      "metadata": {
        "colab": {
          "base_uri": "https://localhost:8080/",
          "height": 410
        },
        "id": "nBRejryn7yXl",
        "outputId": "0f7778e8-b6d7-463f-fa02-43e9b7890255"
      },
      "execution_count": null,
      "outputs": [
        {
          "output_type": "display_data",
          "data": {
            "text/plain": [
              "<Figure size 1200x400 with 1 Axes>"
            ],
            "image/png": "[encoded data removed]"
          },
          "metadata": {}
        }
      ]
    },
    {
      "cell_type": "code",
      "source": [
        "from sklearn.preprocessing import LabelEncoder\n",
        "\n",
        "vaultsphere_df['resource_id_enc'] = LabelEncoder().fit_transform(vaultsphere_df['resource_id'])\n",
        "\n",
        "# Combine numeric + categorical\n",
        "vault_num = vaultsphere_df[['resource_id_enc']].values\n",
        "X_vault_if = np.hstack([vault_num, vault_cat])\n",
        "\n",
        "# Normalize\n",
        "scaler = MinMaxScaler()\n",
        "X_vault_if_scaled = scaler.fit_transform(X_vault_if)\n",
        "\n",
        "# Train Isolation Forest\n",
        "iso_vault = IsolationForest(n_estimators=100, contamination=0.05, random_state=42)\n",
        "iso_vault.fit(X_vault_if_scaled)\n",
        "\n",
        "# Predict anomalies\n",
        "y_pred_if = iso_vault.predict(X_vault_if_scaled)\n",
        "y_pred_if = np.array([0 if i==1 else 1 for i in y_pred_if])\n",
        "\n",
        "print(f\"Detected {y_pred_if.sum()} anomalies using Isolation Forest\")"
      ],
      "metadata": {
        "colab": {
          "base_uri": "https://localhost:8080/"
        },
        "id": "JWWjRXff8A4S",
        "outputId": "9c8edee7-ce7b-4a13-96d1-d2f288160da4"
      },
      "execution_count": null,
      "outputs": [
        {
          "output_type": "stream",
          "name": "stdout",
          "text": [
            "Detected 814 anomalies using Isolation Forest\n"
          ]
        }
      ]
    },
    {
      "cell_type": "code",
      "source": [
        "lstm_anomalies = anomalies.sum()\n",
        "print(f\"Detected {lstm_anomalies} anomalies using LSTM Autoencoder\")"
      ],
      "metadata": {
        "colab": {
          "base_uri": "https://localhost:8080/"
        },
        "id": "-tgHW2M58K4H",
        "outputId": "3aecb2f1-ebb6-4899-dec5-b19e731fa4dc"
      },
      "execution_count": null,
      "outputs": [
        {
          "output_type": "stream",
          "name": "stdout",
          "text": [
            "Detected 813 anomalies using LSTM Autoencoder\n"
          ]
        }
      ]
    },
    {
      "cell_type": "code",
      "source": [
        "print(f\"Isolation Forest anomalies: {y_pred_if.sum()}\")\n",
        "print(f\"LSTM Autoencoder anomalies: {lstm_anomalies}\")"
      ],
      "metadata": {
        "colab": {
          "base_uri": "https://localhost:8080/"
        },
        "id": "giXlYCeE8Qp0",
        "outputId": "e65a9cb4-5843-4d4d-9de8-812b7285a2f8"
      },
      "execution_count": null,
      "outputs": [
        {
          "output_type": "stream",
          "name": "stdout",
          "text": [
            "Isolation Forest anomalies: 814\n",
            "LSTM Autoencoder anomalies: 813\n"
          ]
        }
      ]
    },
    {
      "cell_type": "code",
      "source": [
        "import matplotlib.pyplot as plt\n",
        "\n",
        "plt.bar(['Isolation Forest', 'LSTM Autoencoder'], [y_pred_if.sum(), lstm_anomalies], color=['orange', 'blue'])\n",
        "plt.ylabel('Number of Anomalies Detected')\n",
        "plt.title('Anomaly Detection Comparison on VaultSphere Logs')\n",
        "plt.show()"
      ],
      "metadata": {
        "colab": {
          "base_uri": "https://localhost:8080/",
          "height": 452
        },
        "id": "qH8tUaoF8SrV",
        "outputId": "921a0582-d774-4967-cb22-2ea6b45f4c64"
      },
      "execution_count": null,
      "outputs": [
        {
          "output_type": "display_data",
          "data": {
            "text/plain": [
              "<Figure size 640x480 with 1 Axes>"
            ],
            "image/png": "[encoded data removed]"
          },
          "metadata": {}
        }
      ]
    },
    {
      "cell_type": "code",
      "source": [
        "import numpy as np\n",
        "import matplotlib.pyplot as plt\n",
        "from sklearn.preprocessing import MinMaxScaler, LabelEncoder\n",
        "from sklearn.ensemble import IsolationForest\n",
        "\n",
        "# --- Prepare Isolation Forest data ---\n",
        "# Encode resource_id\n",
        "vaultsphere_df['resource_id_enc'] = LabelEncoder().fit_transform(vaultsphere_df['resource_id'])\n",
        "\n",
        "# Combine numeric + categorical\n",
        "vault_num = vaultsphere_df[['resource_id_enc']].values\n",
        "X_vault_if = np.hstack([vault_num, vault_cat])\n",
        "\n",
        "# Normalize\n",
        "scaler = MinMaxScaler()\n",
        "X_vault_if_scaled = scaler.fit_transform(X_vault_if)\n",
        "\n",
        "# Train Isolation Forest\n",
        "iso_vault = IsolationForest(n_estimators=100, contamination=0.05, random_state=42)\n",
        "iso_vault.fit(X_vault_if_scaled)\n",
        "\n",
        "# Predict anomalies\n",
        "y_pred_if = iso_vault.predict(X_vault_if_scaled)\n",
        "y_pred_if = np.array([0 if i==1 else 1 for i in y_pred_if])\n",
        "iso_count = y_pred_if.sum()\n",
        "\n",
        "# --- LSTM Autoencoder results ---\n",
        "# X_seq, anomalies already computed from LSTM model\n",
        "lstm_count = anomalies.sum()\n",
        "\n",
        "# --- Print comparison ---\n",
        "print(f\"Isolation Forest anomalies: {iso_count}\")\n",
        "print(f\"LSTM Autoencoder anomalies: {lstm_count}\")\n",
        "\n",
        "# --- Plot comparison ---\n",
        "plt.figure(figsize=(6,5))\n",
        "plt.bar(['Isolation Forest', 'LSTM Autoencoder'], [iso_count, lstm_count], color=['orange', 'blue'])\n",
        "plt.ylabel('Number of Anomalies Detected')\n",
        "plt.title('Anomaly Detection Comparison on VaultSphere Logs')\n",
        "plt.show()"
      ],
      "metadata": {
        "colab": {
          "base_uri": "https://localhost:8080/",
          "height": 504
        },
        "id": "8WKWgJYl8Um6",
        "outputId": "2f557257-0f68-4b7a-8013-a24df5676290"
      },
      "execution_count": null,
      "outputs": [
        {
          "output_type": "stream",
          "name": "stdout",
          "text": [
            "Isolation Forest anomalies: 814\n",
            "LSTM Autoencoder anomalies: 813\n"
          ]
        },
        {
          "output_type": "display_data",
          "data": {
            "text/plain": [
              "<Figure size 600x500 with 1 Axes>"
            ],
            "image/png": "[encoded data removed]"
          },
          "metadata": {}
        }
      ]
    },
    {
      "cell_type": "code",
      "source": [
        "import pandas as pd\n",
        "import numpy as np\n",
        "\n",
        "# y_pred_if: Isolation Forest predictions (0=normal, 1=anomaly)\n",
        "# anomalies: LSTM Autoencoder predictions (boolean array, True=anomaly)\n",
        "\n",
        "# Align lengths: LSTM sequences are shorter due to seq_length\n",
        "seq_length = 10\n",
        "lstm_flags_full = np.zeros(len(vaultsphere_df), dtype=int)\n",
        "for i in range(len(anomalies)):\n",
        "    if anomalies[i]:\n",
        "        lstm_flags_full[i:i+seq_length] = 1\n",
        "\n",
        "# Find events detected by LSTM but missed by Isolation Forest\n",
        "lstm_only_idx = np.where((lstm_flags_full == 1) & (y_pred_if == 0))[0]\n",
        "\n",
        "# Extract those sequences/events\n",
        "lstm_only_events = vaultsphere_df.iloc[lstm_only_idx]\n",
        "\n",
        "print(f\"Number of events detected only by LSTM: {len(lstm_only_events)}\")\n",
        "lstm_only_events.head(10)  # show first 10 for inspection\n",
        "\n",
        "# Optional: save to CSV for your paper\n",
        "lstm_only_events.to_csv('lstm_only_anomalies.csv', index=False)"
      ],
      "metadata": {
        "colab": {
          "base_uri": "https://localhost:8080/"
        },
        "id": "ug6sTkY68iDv",
        "outputId": "0006f9fd-b398-48bb-ef11-50ab7801044f"
      },
      "execution_count": null,
      "outputs": [
        {
          "output_type": "stream",
          "name": "stdout",
          "text": [
            "Number of events detected only by LSTM: 2734\n"
          ]
        }
      ]
    },
    {
      "cell_type": "code",
      "source": [
        "import pandas as pd\n",
        "vaultsphere_df = pd.read_csv(\"synthetic_vaultsphere_logs.csv\")"
      ],
      "metadata": {
        "id": "rYtTUQUbwcM1"
      },
      "execution_count": null,
      "outputs": []
    },
    {
      "cell_type": "code",
      "source": [
        "import pandas as pd\n",
        "import numpy as np\n",
        "from sklearn.preprocessing import StandardScaler\n",
        "\n",
        "import tensorflow as tf\n",
        "from tensorflow.keras import layers, models\n",
        "\n",
        "# ============================\n",
        "# Step 2: Preprocess features\n",
        "# ============================\n",
        "\n",
        "# Load data\n",
        "vaultsphere_df = pd.read_csv(\"synthetic_vaultsphere_logs.csv\")\n",
        "\n",
        "# One-hot encode categorical columns (adjust columns as needed)\n",
        "df_encoded = pd.get_dummies(vaultsphere_df, drop_first=True)\n",
        "\n",
        "# Scale features\n",
        "scaler = StandardScaler()\n",
        "df_scaled = scaler.fit_transform(df_encoded)\n",
        "\n",
        "print(\"Shape after encoding + scaling:\", df_scaled.shape)\n",
        "\n",
        "# ============================\n",
        "# Step 3: Build sequences\n",
        "# ============================\n",
        "seq_length = 50  # sequence length for LSTM\n",
        "\n",
        "def create_sequences(data, seq_length):\n",
        "    sequences = []\n",
        "    for i in range(len(data) - seq_length):\n",
        "        seq = data[i : (i + seq_length)]\n",
        "        sequences.append(seq)\n",
        "    return np.array(sequences)\n",
        "\n",
        "X_seq = create_sequences(df_scaled, seq_length)\n",
        "print(\"Shape of sequences for LSTM:\", X_seq.shape)\n",
        "\n",
        "# ============================\n",
        "# Step 4: Build LSTM Autoencoder\n",
        "# ============================\n",
        "timesteps = X_seq.shape[1]\n",
        "n_features = X_seq.shape[2]\n",
        "\n",
        "inputs = layers.Input(shape=(timesteps, n_features))\n",
        "encoded = layers.LSTM(64, activation=\"relu\", return_sequences=False)(inputs)\n",
        "repeat = layers.RepeatVector(timesteps)(encoded)\n",
        "decoded = layers.LSTM(64, activation=\"relu\", return_sequences=True)(repeat)\n",
        "outputs = layers.TimeDistributed(layers.Dense(n_features))(decoded)\n",
        "\n",
        "lstm_autoencoder = models.Model(inputs, outputs)\n",
        "lstm_autoencoder.compile(optimizer=\"adam\", loss=\"mse\")\n",
        "\n",
        "lstm_autoencoder.summary()\n",
        "\n",
        "# Train (unsupervised)\n",
        "history = lstm_autoencoder.fit(\n",
        "    X_seq, X_seq,\n",
        "    epochs=5,        # increase for better results\n",
        "    batch_size=64,\n",
        "    validation_split=0.1,\n",
        "    shuffle=True\n",
        ")\n",
        "\n",
        "# ============================\n",
        "# Step 5: Get anomaly predictions\n",
        "# ============================\n",
        "# Reconstruction errors\n",
        "X_pred = lstm_autoencoder.predict(X_seq)\n",
        "mse = np.mean(np.power(X_seq - X_pred, 2), axis=(1,2))\n",
        "\n",
        "# Threshold = mean + 3*std (you can tune this)\n",
        "threshold = np.mean(mse) + 3*np.std(mse)\n",
        "y_pred_lstm = (mse > threshold).astype(int)\n",
        "\n",
        "print(\"y_pred_lstm shape:\", y_pred_lstm.shape)\n",
        "print(\"Number of anomalies detected by LSTM:\", y_pred_lstm.sum())"
      ],
      "metadata": {
        "colab": {
          "base_uri": "https://localhost:8080/"
        },
        "id": "EF_0S6HdwpjB",
        "outputId": "be9d213e-8a03-4b60-8225-e8c53b22b068"
      },
      "execution_count": null,
      "outputs": [
        {
          "output_type": "stream",
          "name": "stdout",
          "text": [
            "Shape after encoding + scaling: (16268, 17537)\n"
          ]
        }
      ]
    },
    {
      "cell_type": "code",
      "source": [
        "# Align Isolation Forest predictions with LSTM sequences\n",
        "y_pred_if_seq = y_pred_if[seq_length:]  # drop first seq_length elements\n",
        "\n",
        "# Now shapes should match\n",
        "print(\"IF seq shape:\", y_pred_if_seq.shape)\n",
        "print(\"LSTM shape:\", y_pred_lstm.shape)\n",
        "\n",
        "# Compare anomalies\n",
        "lstm_only = np.logical_and(y_pred_lstm==1, y_pred_if_seq==0)\n",
        "num_lstm_only = lstm_only.sum()\n",
        "print(f\"Number of events detected only by LSTM: {num_lstm_only}\")"
      ],
      "metadata": {
        "id": "g8ZZvtol84Gn"
      },
      "execution_count": null,
      "outputs": []
    },
    {
      "cell_type": "code",
      "source": [
        "import numpy as np\n",
        "import pandas as pd\n",
        "import matplotlib.pyplot as plt\n",
        "\n",
        "# -----------------------------\n",
        "# LSTM vs Isolation Forest comparison\n",
        "# -----------------------------\n",
        "\n",
        "# Align IF predictions to LSTM sequences\n",
        "y_pred_if_seq = y_pred_if[seq_length:]  # drop first seq_length events\n",
        "y_pred_lstm = anomalies.astype(int)     # LSTM anomalies from previous step\n",
        "\n",
        "# LSTM-only anomalies\n",
        "lstm_only = np.logical_and(y_pred_lstm==1, y_pred_if_seq==0)\n",
        "num_lstm_only = lstm_only.sum()\n",
        "\n",
        "# Summary table\n",
        "summary = pd.DataFrame({\n",
        "    'Method': ['Isolation Forest', 'LSTM Autoencoder', 'LSTM-only'],\n",
        "    'Detected Anomalies': [y_pred_if_seq.sum(), y_pred_lstm.sum(), num_lstm_only]\n",
        "})\n",
        "print(summary)\n",
        "\n",
        "# Bar plot for visual comparison\n",
        "plt.figure(figsize=(8,5))\n",
        "plt.bar(summary['Method'], summary['Detected Anomalies'], color=['orange', 'skyblue', 'red'])\n",
        "plt.title('VaultSphere Synthetic Logs: Anomaly Detection Comparison')\n",
        "plt.ylabel('Number of Anomalous Sequences')\n",
        "plt.show()\n",
        "\n",
        "# Save LSTM-only sequences for further analysis\n",
        "lstm_only_sequences = X_seq[lstm_only]\n",
        "np.save('lstm_only_sequences.npy', lstm_only_sequences)\n",
        "\n",
        "print(f\"Saved {num_lstm_only} LSTM-only anomalous sequences to 'lstm_only_sequences.npy'\")"
      ],
      "metadata": {
        "id": "Lzpg2mmg8-1Q"
      },
      "execution_count": null,
      "outputs": []
    },
    {
      "cell_type": "code",
      "source": [
        "# Extract VaultSphere info for LSTM-only sequences\n",
        "seq_indices = np.arange(len(y_pred_lstm))\n",
        "lstm_only_indices = seq_indices[lstm_only]\n",
        "\n",
        "# Map back to original DataFrame events\n",
        "# Each sequence is seq_length long, take the starting index\n",
        "event_indices = lstm_only_indices\n",
        "\n",
        "# Since sequences overlap, we can consider the first event of each anomalous sequence\n",
        "lstm_events = vaultsphere_df.iloc[event_indices]\n",
        "\n",
        "# Aggregate per tenant\n",
        "tenant_summary = lstm_events.groupby('tenant_id').size().reset_index(name='LSTM_only_anomalies')\n",
        "print(\"Per-Tenant LSTM-only anomaly counts:\")\n",
        "print(tenant_summary)\n",
        "\n",
        "# Aggregate per user\n",
        "user_summary = lstm_events.groupby(['tenant_id', 'user_id']).size().reset_index(name='LSTM_only_anomalies')\n",
        "print(\"\\nPer-User LSTM-only anomaly counts (sample):\")\n",
        "print(user_summary.head(20))  # print top 20 rows\n",
        "\n",
        "# Optional: save for your paper\n",
        "tenant_summary.to_csv('lstm_only_anomalies_per_tenant.csv', index=False)\n",
        "user_summary.to_csv('lstm_only_anomalies_per_user.csv', index=False)\n",
        "print(\"\\nSaved per-tenant and per-user LSTM-only anomalies CSV files.\")"
      ],
      "metadata": {
        "id": "dwzQV3Jg9J7d"
      },
      "execution_count": null,
      "outputs": []
    },
    {
      "cell_type": "code",
      "source": [
        "import matplotlib.pyplot as plt\n",
        "import seaborn as sns\n",
        "\n",
        "sns.set(style=\"whitegrid\")\n",
        "\n",
        "# --- Per Tenant Comparison ---\n",
        "# Total anomalies per tenant for LSTM\n",
        "lstm_tenant_counts = lstm_events.groupby('tenant_id').size()\n",
        "# Total anomalies per tenant for Isolation Forest\n",
        "iso_events_df = vaultsphere_df.copy()\n",
        "iso_events_df['anomaly_if'] = y_pred_if\n",
        "iso_tenant_counts = iso_events_df[iso_events_df['anomaly_if']==1].groupby('tenant_id').size()\n",
        "\n",
        "# Combine into DataFrame for plotting\n",
        "tenant_df = pd.DataFrame({\n",
        "    'Tenant': lstm_tenant_counts.index,\n",
        "    'LSTM': lstm_tenant_counts.values,\n",
        "    'IsolationForest': iso_tenant_counts.reindex(lstm_tenant_counts.index, fill_value=0).values\n",
        "})\n",
        "\n",
        "tenant_df.plot(x='Tenant', kind='bar', figsize=(10,6))\n",
        "plt.title(\"Anomalies per Tenant: LSTM vs Isolation Forest\")\n",
        "plt.ylabel(\"Number of anomalies\")\n",
        "plt.xlabel(\"Tenant ID\")\n",
        "plt.xticks(rotation=0)\n",
        "plt.show()\n",
        "\n",
        "# --- Per User Comparison ---\n",
        "# Take top 20 users with most LSTM-only anomalies\n",
        "top_users = user_summary.sort_values('LSTM_only_anomalies', ascending=False).head(20)\n",
        "plt.figure(figsize=(12,6))\n",
        "sns.barplot(x='user_id', y='LSTM_only_anomalies', hue='tenant_id', data=top_users, dodge=True)\n",
        "plt.title(\"Top 20 Users with LSTM-only Anomalies\")\n",
        "plt.ylabel(\"Number of anomalies\")\n",
        "plt.xlabel(\"User ID\")\n",
        "plt.legend(title='Tenant ID')\n",
        "plt.show()"
      ],
      "metadata": {
        "id": "eG880SCA9Uyt"
      },
      "execution_count": null,
      "outputs": []
    },
    {
      "cell_type": "code",
      "source": [
        "import pandas as pd\n",
        "\n",
        "# Load datasets\n",
        "food_df = pd.read_csv('vaultsphere_food.csv')\n",
        "it_df = pd.read_csv('vaultsphere_it.csv')\n",
        "\n",
        "print(\"Food Company shape:\", food_df.shape)\n",
        "print(\"IT Solutions shape:\", it_df.shape)"
      ],
      "metadata": {
        "id": "BRneI_iR9eos"
      },
      "execution_count": null,
      "outputs": []
    },
    {
      "cell_type": "code",
      "source": [
        "from sklearn.preprocessing import OneHotEncoder, LabelEncoder\n",
        "import numpy as np\n",
        "\n",
        "# Label encode resource_id\n",
        "food_df['resource_id_enc'] = LabelEncoder().fit_transform(food_df['resource_id'])\n",
        "it_df['resource_id_enc'] = LabelEncoder().fit_transform(it_df['resource_id'])\n",
        "\n",
        "# One-hot encode event_type and status\n",
        "cat_cols = ['event_type', 'status']\n",
        "\n",
        "encoder_food = OneHotEncoder(sparse_output=False)\n",
        "X_food_cat = encoder_food.fit_transform(food_df[cat_cols])\n",
        "\n",
        "encoder_it = OneHotEncoder(sparse_output=False)\n",
        "X_it_cat = encoder_it.fit_transform(it_df[cat_cols])\n",
        "\n",
        "# Combine numeric + categorical\n",
        "X_food = np.hstack([food_df[['resource_id_enc']].values, X_food_cat])\n",
        "X_it = np.hstack([it_df[['resource_id_enc']].values, X_it_cat])"
      ],
      "metadata": {
        "id": "NbYcoL4vGtNK"
      },
      "execution_count": null,
      "outputs": []
    },
    {
      "cell_type": "code",
      "source": [
        "from sklearn.preprocessing import MinMaxScaler\n",
        "\n",
        "scaler_food = MinMaxScaler()\n",
        "X_food_scaled = scaler_food.fit_transform(X_food)\n",
        "\n",
        "scaler_it = MinMaxScaler()\n",
        "X_it_scaled = scaler_it.fit_transform(X_it)"
      ],
      "metadata": {
        "id": "_XiErt10GwJe"
      },
      "execution_count": null,
      "outputs": []
    },
    {
      "cell_type": "code",
      "source": [
        "from sklearn.ensemble import IsolationForest\n",
        "\n",
        "iso_food = IsolationForest(n_estimators=100, contamination=0.1, random_state=42)\n",
        "y_food_pred = iso_food.fit_predict(X_food_scaled)\n",
        "y_food_pred = np.array([0 if i==1 else 1 for i in y_food_pred])  # 0=normal, 1=anomaly\n",
        "\n",
        "iso_it = IsolationForest(n_estimators=100, contamination=0.1, random_state=42)\n",
        "y_it_pred = iso_it.fit_predict(X_it_scaled)\n",
        "y_it_pred = np.array([0 if i==1 else 1 for i in y_it_pred])\n",
        "\n",
        "print(f\"Food Company anomalies detected: {y_food_pred.sum()}\")\n",
        "print(f\"IT Solutions anomalies detected: {y_it_pred.sum()}\")"
      ],
      "metadata": {
        "id": "brF4i_DbG0P3"
      },
      "execution_count": null,
      "outputs": []
    },
    {
      "cell_type": "code",
      "source": [
        "import matplotlib.pyplot as plt\n",
        "\n",
        "plt.bar(['Food Company', 'IT Solutions'], [y_food_pred.sum(), y_it_pred.sum()], color=['orange','blue'])\n",
        "plt.ylabel('Number of Anomalies Detected')\n",
        "plt.title('Isolation Forest Anomaly Detection - VaultSphere Tenants')\n",
        "plt.show()"
      ],
      "metadata": {
        "id": "NmB5hBNwG2Rj"
      },
      "execution_count": null,
      "outputs": []
    },
    {
      "cell_type": "code",
      "source": [
        "# Food Company anomalies over time\n",
        "food_df['anomaly'] = y_food_pred\n",
        "food_df['timestamp'] = pd.to_datetime(food_df['timestamp'])\n",
        "food_df.set_index('timestamp', inplace=True)\n",
        "food_daily = food_df.resample('D')['anomaly'].sum()\n",
        "\n",
        "# IT Solutions anomalies over time\n",
        "it_df['anomaly'] = y_it_pred\n",
        "it_df['timestamp'] = pd.to_datetime(it_df['timestamp'])\n",
        "it_df.set_index('timestamp', inplace=True)\n",
        "it_daily = it_df.resample('D')['anomaly'].sum()\n",
        "\n",
        "plt.figure(figsize=(10,5))\n",
        "plt.plot(food_daily.index, food_daily.values, label='Food Company', color='orange')\n",
        "plt.plot(it_daily.index, it_daily.values, label='IT Solutions', color='blue')\n",
        "plt.xlabel('Date')\n",
        "plt.ylabel('Anomalies Detected')\n",
        "plt.title('Daily Anomalies - VaultSphere Tenants')\n",
        "plt.legend()\n",
        "plt.show()"
      ],
      "metadata": {
        "id": "HR2YVFPWG7MB"
      },
      "execution_count": null,
      "outputs": []
    },
    {
      "cell_type": "code",
      "source": [
        "import pandas as pd\n",
        "\n",
        "# Load the correct files\n",
        "food_df = pd.read_csv('vaultsphere_food.csv')\n",
        "it_df = pd.read_csv('vaultsphere_it.csv')\n",
        "\n",
        "print(\"Food Company shape:\", food_df.shape)\n",
        "print(\"IT Solutions shape:\", it_df.shape)"
      ],
      "metadata": {
        "id": "KfdYF5_sIG04"
      },
      "execution_count": null,
      "outputs": []
    },
    {
      "cell_type": "code",
      "source": [
        "import numpy as np\n",
        "import pandas as pd\n",
        "from sklearn.preprocessing import OneHotEncoder, MinMaxScaler, LabelEncoder\n",
        "from tensorflow.keras.models import Sequential\n",
        "from tensorflow.keras.layers import LSTM, RepeatVector, TimeDistributed, Dense\n",
        "from tensorflow.keras.optimizers import Adam\n",
        "\n",
        "# Load datasets\n",
        "food_df = pd.read_csv('vaultsphere_food.csv')\n",
        "it_df = pd.read_csv('vaultsphere_it.csv')\n",
        "\n",
        "# Function to prepare tenant data for LSTM\n",
        "def prepare_tenant_data(df, cat_cols, seq_length=10):\n",
        "    # Encode categorical features\n",
        "    encoder = OneHotEncoder(sparse_output=False, handle_unknown='ignore')\n",
        "    cat_data = encoder.fit_transform(df[cat_cols])\n",
        "\n",
        "    # Encode resource_id\n",
        "    df['resource_id_enc'] = LabelEncoder().fit_transform(df['resource_id'])\n",
        "    num_data = df[['resource_id_enc']].values\n",
        "\n",
        "    # Combine numeric + categorical\n",
        "    X = np.hstack([num_data, cat_data])\n",
        "\n",
        "    # Normalize features\n",
        "    scaler = MinMaxScaler()\n",
        "    X_scaled = scaler.fit_transform(X)\n",
        "\n",
        "    # Create sequences\n",
        "    sequences = [X_scaled[i:i+seq_length] for i in range(len(X_scaled) - seq_length)]\n",
        "    return np.array(sequences)\n",
        "\n",
        "# Parameters\n",
        "seq_length = 10\n",
        "cat_cols = ['event_type', 'status']\n",
        "\n",
        "# Prepare sequences for each tenant\n",
        "X_food_seq = prepare_tenant_data(food_df, cat_cols, seq_length)\n",
        "X_it_seq = prepare_tenant_data(it_df, cat_cols, seq_length)\n",
        "\n",
        "# Function to build LSTM Autoencoder\n",
        "def build_lstm_autoencoder(timesteps, features):\n",
        "    model = Sequential([\n",
        "        LSTM(64, activation='relu', input_shape=(timesteps, features), return_sequences=False),\n",
        "        RepeatVector(timesteps),\n",
        "        LSTM(64, activation='relu', return_sequences=True),\n",
        "        TimeDistributed(Dense(features))\n",
        "    ])\n",
        "    model.compile(optimizer=Adam(learning_rate=0.001), loss='mse')\n",
        "    return model\n",
        "\n",
        "# Build models\n",
        "timesteps, features = X_food_seq.shape[1], X_food_seq.shape[2]\n",
        "food_model = build_lstm_autoencoder(timesteps, features)\n",
        "it_model = build_lstm_autoencoder(timesteps, features)\n",
        "\n",
        "# Train models\n",
        "food_history = food_model.fit(X_food_seq, X_food_seq, epochs=20, batch_size=256, validation_split=0.1)\n",
        "it_history = it_model.fit(X_it_seq, X_it_seq, epochs=20, batch_size=256, validation_split=0.1)\n",
        "\n",
        "# Function to detect anomalies\n",
        "def detect_anomalies(model, X_seq, threshold_percentile=95):\n",
        "    X_pred = model.predict(X_seq)\n",
        "    mse = np.mean(np.power(X_seq - X_pred, 2), axis=(1,2))\n",
        "    threshold = np.percentile(mse, threshold_percentile)\n",
        "    anomalies = mse > threshold\n",
        "    return anomalies, threshold\n",
        "\n",
        "# Detect anomalies for each tenant\n",
        "food_anomalies, food_thresh = detect_anomalies(food_model, X_food_seq)\n",
        "it_anomalies, it_thresh = detect_anomalies(it_model, X_it_seq)\n",
        "\n",
        "print(f\"Food Company: {food_anomalies.sum()} anomalous sequences detected\")\n",
        "print(f\"IT Solutions: {it_anomalies.sum()} anomalous sequences detected\")"
      ],
      "metadata": {
        "id": "7H-04mmLIgyp"
      },
      "execution_count": null,
      "outputs": []
    },
    {
      "cell_type": "code",
      "source": [
        "import numpy as np\n",
        "import pandas as pd\n",
        "from sklearn.preprocessing import OneHotEncoder, MinMaxScaler, LabelEncoder\n",
        "from sklearn.ensemble import IsolationForest\n",
        "import matplotlib.pyplot as plt\n",
        "from tensorflow.keras.models import Sequential\n",
        "from tensorflow.keras.layers import LSTM, RepeatVector, TimeDistributed, Dense\n",
        "from tensorflow.keras.optimizers import Adam\n",
        "\n",
        "# Load datasets\n",
        "food_df = pd.read_csv('vaultsphere_food.csv')\n",
        "it_df = pd.read_csv('vaultsphere_it.csv')\n",
        "\n",
        "# Function to prepare tenant data\n",
        "def prepare_tenant_data(df, cat_cols, seq_length=10):\n",
        "    encoder = OneHotEncoder(sparse_output=False, handle_unknown='ignore')\n",
        "    cat_data = encoder.fit_transform(df[cat_cols])\n",
        "\n",
        "    df['resource_id_enc'] = LabelEncoder().fit_transform(df['resource_id'])\n",
        "    num_data = df[['resource_id_enc']].values\n",
        "\n",
        "    X = np.hstack([num_data, cat_data])\n",
        "\n",
        "    scaler = MinMaxScaler()\n",
        "    X_scaled = scaler.fit_transform(X)\n",
        "\n",
        "    sequences = [X_scaled[i:i+seq_length] for i in range(len(X_scaled) - seq_length)]\n",
        "    return np.array(sequences), X_scaled\n",
        "\n",
        "# Parameters\n",
        "seq_length = 10\n",
        "cat_cols = ['event_type', 'status']\n",
        "\n",
        "# Prepare sequences\n",
        "X_food_seq, X_food_scaled = prepare_tenant_data(food_df, cat_cols, seq_length)\n",
        "X_it_seq, X_it_scaled = prepare_tenant_data(it_df, cat_cols, seq_length)\n",
        "\n",
        "# Build LSTM Autoencoder\n",
        "def build_lstm_autoencoder(timesteps, features):\n",
        "    model = Sequential([\n",
        "        LSTM(64, activation='relu', input_shape=(timesteps, features), return_sequences=False),\n",
        "        RepeatVector(timesteps),\n",
        "        LSTM(64, activation='relu', return_sequences=True),\n",
        "        TimeDistributed(Dense(features))\n",
        "    ])\n",
        "    model.compile(optimizer=Adam(learning_rate=0.001), loss='mse')\n",
        "    return model\n",
        "\n",
        "# Train LSTM models\n",
        "timesteps, features = X_food_seq.shape[1], X_food_seq.shape[2]\n",
        "food_model = build_lstm_autoencoder(timesteps, features)\n",
        "it_model = build_lstm_autoencoder(timesteps, features)\n",
        "\n",
        "food_model.fit(X_food_seq, X_food_seq, epochs=20, batch_size=256, validation_split=0.1)\n",
        "it_model.fit(X_it_seq, X_it_seq, epochs=20, batch_size=256, validation_split=0.1)\n",
        "\n",
        "# Detect anomalies with LSTM\n",
        "def detect_lstm_anomalies(model, X_seq, percentile=95):\n",
        "    X_pred = model.predict(X_seq)\n",
        "    mse = np.mean((X_seq - X_pred) ** 2, axis=(1,2))\n",
        "    threshold = np.percentile(mse, percentile)\n",
        "    anomalies = mse > threshold\n",
        "    return anomalies, threshold\n",
        "\n",
        "food_lstm_anom, food_lstm_thresh = detect_lstm_anomalies(food_model, X_food_seq)\n",
        "it_lstm_anom, it_lstm_thresh = detect_lstm_anomalies(it_model, X_it_seq)\n",
        "\n",
        "# Detect anomalies with Isolation Forest\n",
        "def detect_if_anomalies(X_scaled, contamination=0.05):\n",
        "    iso = IsolationForest(n_estimators=100, contamination=contamination, random_state=42)\n",
        "    iso.fit(X_scaled)\n",
        "    y_pred = iso.predict(X_scaled)\n",
        "    y_pred = np.array([0 if i==1 else 1 for i in y_pred])\n",
        "    return y_pred\n",
        "\n",
        "food_if_anom = detect_if_anomalies(X_food_scaled)\n",
        "it_if_anom = detect_if_anomalies(X_it_scaled)\n",
        "\n",
        "# Summary\n",
        "summary = pd.DataFrame({\n",
        "    'Tenant': ['Food Company', 'IT Solutions'],\n",
        "    'LSTM Anomalies': [food_lstm_anom.sum(), it_lstm_anom.sum()],\n",
        "    'Isolation Forest Anomalies': [food_if_anom.sum(), it_if_anom.sum()]\n",
        "})\n",
        "print(summary)\n",
        "\n",
        "# Bar Plot\n",
        "summary.set_index('Tenant').plot(kind='bar', figsize=(8,6))\n",
        "plt.title(\"Anomalies Detected: LSTM vs Isolation Forest\")\n",
        "plt.ylabel(\"Number of Anomalous Sequences\")\n",
        "plt.xticks(rotation=0)\n",
        "plt.show()"
      ],
      "metadata": {
        "id": "N_EYAYmKIvvF"
      },
      "execution_count": null,
      "outputs": []
    },
    {
      "cell_type": "code",
      "source": [
        "import numpy as np\n",
        "import pandas as pd\n",
        "import matplotlib.pyplot as plt\n",
        "\n",
        "# Assuming you already have:\n",
        "# food_lstm_anom, it_lstm_anom, food_if_anom, it_if_anom\n",
        "\n",
        "# --- Align sequence lengths ---\n",
        "min_food_len = min(len(food_lstm_anom), len(food_if_anom))\n",
        "food_lstm_aligned = food_lstm_anom[:min_food_len]\n",
        "food_if_aligned = food_if_anom[:min_food_len]\n",
        "\n",
        "min_it_len = min(len(it_lstm_anom), len(it_if_anom))\n",
        "it_lstm_aligned = it_lstm_anom[:min_it_len]\n",
        "it_if_aligned = it_if_anom[:min_it_len]\n",
        "\n",
        "# --- LSTM-only anomalies ---\n",
        "food_lstm_only = np.logical_and(food_lstm_aligned, food_if_aligned == 0)\n",
        "it_lstm_only = np.logical_and(it_lstm_aligned, it_if_aligned == 0)\n",
        "\n",
        "print(f\"Food Company: {food_lstm_only.sum()} sequences detected only by LSTM\")\n",
        "print(f\"IT Solutions: {it_lstm_only.sum()} sequences detected only by LSTM\")\n",
        "\n",
        "# --- Prepare summary table ---\n",
        "summary = pd.DataFrame({\n",
        "    'Tenant': ['Food Company', 'IT Solutions'],\n",
        "    'Total IF Anomalies': [food_if_aligned.sum(), it_if_aligned.sum()],\n",
        "    'Total LSTM Anomalies': [food_lstm_aligned.sum(), it_lstm_aligned.sum()],\n",
        "    'LSTM-only Anomalies': [food_lstm_only.sum(), it_lstm_only.sum()]\n",
        "})\n",
        "print(summary)\n",
        "\n",
        "# --- Plot comparison ---\n",
        "x_labels = ['Isolation Forest', 'LSTM', 'LSTM-only']\n",
        "food_counts = [food_if_aligned.sum(), food_lstm_aligned.sum(), food_lstm_only.sum()]\n",
        "it_counts = [it_if_aligned.sum(), it_lstm_aligned.sum(), it_lstm_only.sum()]\n",
        "\n",
        "x = np.arange(len(x_labels))\n",
        "width = 0.35\n",
        "\n",
        "fig, ax = plt.subplots(figsize=(8,5))\n",
        "rects1 = ax.bar(x - width/2, food_counts, width, label='Food Company')\n",
        "rects2 = ax.bar(x + width/2, it_counts, width, label='IT Solutions')\n",
        "\n",
        "ax.set_ylabel('Number of Anomalous Sequences')\n",
        "ax.set_title('LSTM vs Isolation Forest Anomalies')\n",
        "ax.set_xticks(x)\n",
        "ax.set_xticklabels(x_labels)\n",
        "ax.legend()\n",
        "\n",
        "for rect in rects1 + rects2:\n",
        "    height = rect.get_height()\n",
        "    ax.annotate(f'{height}',\n",
        "                xy=(rect.get_x() + rect.get_width()/2, height),\n",
        "                xytext=(0,3), textcoords='offset points',\n",
        "                ha='center', va='bottom')\n",
        "\n",
        "plt.show()\n",
        "\n",
        "# --- Save LSTM-only sequences for further analysis ---\n",
        "food_df_lstm_only = pd.DataFrame(food_df.iloc[:min_food_len][food_lstm_only])\n",
        "it_df_lstm_only = pd.DataFrame(it_df.iloc[:min_it_len][it_lstm_only])\n",
        "\n",
        "food_df_lstm_only.to_csv('food_lstm_only.csv', index=False)\n",
        "it_df_lstm_only.to_csv('it_lstm_only.csv', index=False)\n",
        "\n",
        "print(\"LSTM-only sequences saved as CSV files.\")"
      ],
      "metadata": {
        "id": "UArJlHTPJmy2"
      },
      "execution_count": null,
      "outputs": []
    },
    {
      "cell_type": "code",
      "source": [
        "import numpy as np\n",
        "import pandas as pd\n",
        "from sklearn.preprocessing import OneHotEncoder, MinMaxScaler, LabelEncoder\n",
        "from sklearn.ensemble import IsolationForest\n",
        "from tensorflow.keras.models import Sequential\n",
        "from tensorflow.keras.layers import LSTM, RepeatVector, TimeDistributed, Dense\n",
        "from tensorflow.keras.optimizers import Adam\n",
        "import matplotlib.pyplot as plt\n",
        "\n",
        "# --- Load datasets ---\n",
        "food_df = pd.read_csv('vaultsphere_food.csv')\n",
        "it_df = pd.read_csv('vaultsphere_it.csv')\n",
        "\n",
        "# --- Prepare sequences function ---\n",
        "def prepare_tenant_data(df, cat_cols, seq_length=10):\n",
        "    encoder = OneHotEncoder(sparse_output=False, handle_unknown='ignore')\n",
        "    cat_data = encoder.fit_transform(df[cat_cols])\n",
        "    df['resource_id_enc'] = LabelEncoder().fit_transform(df['resource_id'])\n",
        "    num_data = df[['resource_id_enc']].values\n",
        "    X = np.hstack([num_data, cat_data])\n",
        "    X_scaled = MinMaxScaler().fit_transform(X)\n",
        "\n",
        "    sequences = []\n",
        "    for i in range(len(X_scaled)-seq_length):\n",
        "        sequences.append(X_scaled[i:i+seq_length])\n",
        "    return np.array(sequences)\n",
        "\n",
        "seq_length = 10\n",
        "cat_cols = ['event_type', 'status']\n",
        "\n",
        "X_food_seq = prepare_tenant_data(food_df, cat_cols, seq_length)\n",
        "X_it_seq = prepare_tenant_data(it_df, cat_cols, seq_length)\n",
        "\n",
        "# --- Build LSTM Autoencoder ---\n",
        "def build_lstm_autoencoder(timesteps, features):\n",
        "    model = Sequential([\n",
        "        LSTM(64, activation='relu', input_shape=(timesteps, features), return_sequences=False),\n",
        "        RepeatVector(timesteps),\n",
        "        LSTM(64, activation='relu', return_sequences=True),\n",
        "        TimeDistributed(Dense(features))\n",
        "    ])\n",
        "    model.compile(optimizer=Adam(0.001), loss='mse')\n",
        "    return model\n",
        "\n",
        "timesteps, features = X_food_seq.shape[1], X_food_seq.shape[2]\n",
        "food_model = build_lstm_autoencoder(timesteps, features)\n",
        "it_model = build_lstm_autoencoder(timesteps, features)\n",
        "\n",
        "# --- Train LSTM models ---\n",
        "food_model.fit(X_food_seq, X_food_seq, epochs=20, batch_size=256, validation_split=0.1)\n",
        "it_model.fit(X_it_seq, X_it_seq, epochs=20, batch_size=256, validation_split=0.1)\n",
        "\n",
        "# --- Detect anomalies using LSTM ---\n",
        "def detect_lstm_anomalies(model, X_seq, percentile=95):\n",
        "    X_pred = model.predict(X_seq)\n",
        "    mse = np.mean(np.power(X_seq - X_pred, 2), axis=(1,2))\n",
        "    threshold = np.percentile(mse, percentile)\n",
        "    anomalies = mse > threshold\n",
        "    return anomalies, threshold\n",
        "\n",
        "food_lstm_anom, food_thresh = detect_lstm_anomalies(food_model, X_food_seq)\n",
        "it_lstm_anom, it_thresh = detect_lstm_anomalies(it_model, X_it_seq)\n",
        "\n",
        "# --- Detect anomalies using Isolation Forest ---\n",
        "def detect_if_anomalies(df, cat_cols):\n",
        "    encoder = OneHotEncoder(sparse_output=False, handle_unknown='ignore')\n",
        "    cat_data = encoder.fit_transform(df[cat_cols])\n",
        "    df['resource_id_enc'] = LabelEncoder().fit_transform(df['resource_id'])\n",
        "    num_data = df[['resource_id_enc']].values\n",
        "    X = np.hstack([num_data, cat_data])\n",
        "    X_scaled = MinMaxScaler().fit_transform(X)\n",
        "\n",
        "    iso = IsolationForest(n_estimators=100, contamination=0.05, random_state=42)\n",
        "    iso.fit(X_scaled)\n",
        "    y_pred = iso.predict(X_scaled)\n",
        "    y_pred = np.array([0 if i==1 else 1 for i in y_pred])\n",
        "    return y_pred\n",
        "\n",
        "food_if_anom = detect_if_anomalies(food_df, cat_cols)\n",
        "it_if_anom = detect_if_anomalies(it_df, cat_cols)\n",
        "\n",
        "# --- Align sequence lengths ---\n",
        "min_food_len = min(len(food_lstm_anom), len(food_if_anom))\n",
        "food_lstm_aligned = food_lstm_anom[:min_food_len]\n",
        "food_if_aligned = food_if_anom[:min_food_len]\n",
        "\n",
        "min_it_len = min(len(it_lstm_anom), len(it_if_anom))\n",
        "it_lstm_aligned = it_lstm_anom[:min_it_len]\n",
        "it_if_aligned = it_if_anom[:min_it_len]\n",
        "\n",
        "# --- LSTM-only anomalies ---\n",
        "food_lstm_only = np.logical_and(food_lstm_aligned, food_if_aligned == 0)\n",
        "it_lstm_only = np.logical_and(it_lstm_aligned, it_if_aligned == 0)\n",
        "\n",
        "print(f\"Food Company: {food_lstm_only.sum()} sequences detected only by LSTM\")\n",
        "print(f\"IT Solutions: {it_lstm_only.sum()} sequences detected only by LSTM\")\n",
        "\n",
        "# --- Summary Table ---\n",
        "summary = pd.DataFrame({\n",
        "    'Tenant': ['Food Company', 'IT Solutions'],\n",
        "    'Total IF Anomalies': [food_if_aligned.sum(), it_if_aligned.sum()],\n",
        "    'Total LSTM Anomalies': [food_lstm_aligned.sum(), it_lstm_aligned.sum()],\n",
        "    'LSTM-only Anomalies': [food_lstm_only.sum(), it_lstm_only.sum()]\n",
        "})\n",
        "print(summary)\n",
        "\n",
        "# --- Bar Plot ---\n",
        "x_labels = ['Isolation Forest', 'LSTM', 'LSTM-only']\n",
        "food_counts = [food_if_aligned.sum(), food_lstm_aligned.sum(), food_lstm_only.sum()]\n",
        "it_counts = [it_if_aligned.sum(), it_lstm_aligned.sum(), it_lstm_only.sum()]\n",
        "\n",
        "x = np.arange(len(x_labels))\n",
        "width = 0.35\n",
        "\n",
        "fig, ax = plt.subplots(figsize=(8,5))\n",
        "rects1 = ax.bar(x - width/2, food_counts, width, label='Food Company')\n",
        "rects2 = ax.bar(x + width/2, it_counts, width, label='IT Solutions')\n",
        "\n",
        "ax.set_ylabel('Number of Anomalous Sequences')\n",
        "ax.set_title('LSTM vs Isolation Forest Anomalies')\n",
        "ax.set_xticks(x)\n",
        "ax.set_xticklabels(x_labels)\n",
        "ax.legend()\n",
        "\n",
        "for rect in rects1 + rects2:\n",
        "    height = rect.get_height()\n",
        "    ax.annotate(f'{height}',\n",
        "                xy=(rect.get_x() + rect.get_width()/2, height),\n",
        "                xytext=(0,3), textcoords='offset points',\n",
        "                ha='center', va='bottom')\n",
        "\n",
        "plt.show()\n",
        "\n",
        "# --- Save LSTM-only sequences ---\n",
        "food_df_lstm_only = food_df.iloc[:min_food_len][food_lstm_only]\n",
        "it_df_lstm_only = it_df.iloc[:min_it_len][it_lstm_only]\n",
        "\n",
        "food_df_lstm_only.to_csv('food_lstm_only.csv', index=False)\n",
        "it_df_lstm_only.to_csv('it_lstm_only.csv', index=False)\n",
        "\n",
        "print(\"LSTM-only sequences saved for further analysis.\")"
      ],
      "metadata": {
        "id": "uTNqha7bJ3_m"
      },
      "execution_count": null,
      "outputs": []
    },
    {
      "cell_type": "code",
      "source": [
        "# --- Summarize LSTM-only anomalies ---\n",
        "def summarize_anomalies(df, lstm_only_mask):\n",
        "    df_anom = df.iloc[:len(lstm_only_mask)][lstm_only_mask]\n",
        "    summary = df_anom.groupby(['user_id', 'event_type']).size().reset_index(name='count')\n",
        "    return df_anom, summary\n",
        "\n",
        "food_lstm_df, food_summary = summarize_anomalies(food_df, food_lstm_only)\n",
        "it_lstm_df, it_summary = summarize_anomalies(it_df, it_lstm_only)\n",
        "\n",
        "print(\"Food Company LSTM-only anomaly summary:\")\n",
        "print(food_summary.head())\n",
        "\n",
        "print(\"\\nIT Solutions LSTM-only anomaly summary:\")\n",
        "print(it_summary.head())"
      ],
      "metadata": {
        "id": "nWXeR2RPKLa6"
      },
      "execution_count": null,
      "outputs": []
    },
    {
      "cell_type": "code",
      "source": [
        "from sklearn.metrics import precision_score, recall_score, f1_score\n",
        "\n",
        "def evaluate_anomalies(df, lstm_mask):\n",
        "    if 'is_anomaly' not in df.columns:\n",
        "        print(\"Ground-truth labels not found. Skipping accuracy metrics.\")\n",
        "        return None, None, None\n",
        "    y_true = df.iloc[:len(lstm_mask)]['is_anomaly'].values\n",
        "    y_pred = lstm_mask.astype(int)\n",
        "    precision = precision_score(y_true, y_pred)\n",
        "    recall = recall_score(y_true, y_pred)\n",
        "    f1 = f1_score(y_true, y_pred)\n",
        "    return precision, recall, f1\n",
        "\n",
        "food_prec, food_rec, food_f1 = evaluate_anomalies(food_df, food_lstm_only)\n",
        "it_prec, it_rec, it_f1 = evaluate_anomalies(it_df, it_lstm_only)\n",
        "\n",
        "print(f\"Food Company - Precision: {food_prec}, Recall: {food_rec}, F1: {food_f1}\")\n",
        "print(f\"IT Solutions - Precision: {it_prec}, Recall: {it_rec}, F1: {it_f1}\")"
      ],
      "metadata": {
        "id": "UaxAC1qtKlhI"
      },
      "execution_count": null,
      "outputs": []
    },
    {
      "cell_type": "code",
      "source": [
        "import numpy as np\n",
        "\n",
        "# Inject 10% anomalies randomly for testing\n",
        "food_df['is_anomaly'] = np.random.choice([0,1], size=len(food_df), p=[0.9,0.1])\n",
        "it_df['is_anomaly'] = np.random.choice([0,1], size=len(it_df), p=[0.9,0.1])"
      ],
      "metadata": {
        "id": "KvRpx9wiKpE5"
      },
      "execution_count": null,
      "outputs": []
    },
    {
      "cell_type": "code",
      "source": [
        "from sklearn.metrics import precision_score, recall_score, f1_score\n",
        "\n",
        "def evaluate_anomalies(df, lstm_mask):\n",
        "    if 'is_anomaly' not in df.columns:\n",
        "        print(\"Ground-truth labels not found. Skipping accuracy metrics.\")\n",
        "        return None, None, None\n",
        "    y_true = df.iloc[:len(lstm_mask)]['is_anomaly'].values\n",
        "    y_pred = lstm_mask.astype(int)\n",
        "    precision = precision_score(y_true, y_pred)\n",
        "    recall = recall_score(y_true, y_pred)\n",
        "    f1 = f1_score(y_true, y_pred)\n",
        "    return precision, recall, f1\n",
        "\n",
        "food_prec, food_rec, food_f1 = evaluate_anomalies(food_df, food_lstm_only)\n",
        "it_prec, it_rec, it_f1 = evaluate_anomalies(it_df, it_lstm_only)\n",
        "\n",
        "print(f\"Food Company - Precision: {food_prec}, Recall: {food_rec}, F1: {food_f1}\")\n",
        "print(f\"IT Solutions - Precision: {it_prec}, Recall: {it_rec}, F1: {it_f1}\")"
      ],
      "metadata": {
        "id": "QbkyQmsJK1K1"
      },
      "execution_count": null,
      "outputs": []
    },
    {
      "cell_type": "code",
      "source": [
        "import matplotlib.dates as mdates\n",
        "\n",
        "def plot_anomalies_over_time(df, lstm_mask, title):\n",
        "    df_anom = df.iloc[:len(lstm_mask)][lstm_mask].copy()\n",
        "    df_anom['timestamp'] = pd.to_datetime(df_anom['timestamp'])\n",
        "    daily_counts = df_anom.groupby(df_anom['timestamp'].dt.date).size()\n",
        "\n",
        "    plt.figure(figsize=(10,5))\n",
        "    plt.plot(daily_counts.index, daily_counts.values, marker='o')\n",
        "    plt.title(title)\n",
        "    plt.xlabel('Date')\n",
        "    plt.ylabel('Number of Anomalies')\n",
        "    plt.xticks(rotation=45)\n",
        "    plt.grid(True)\n",
        "    plt.show()\n",
        "\n",
        "plot_anomalies_over_time(food_df, food_lstm_only, 'Food Company: LSTM-only Anomalies Over Time')\n",
        "plot_anomalies_over_time(it_df, it_lstm_only, 'IT Solutions: LSTM-only Anomalies Over Time')"
      ],
      "metadata": {
        "id": "Ocah5r2sK3su"
      },
      "execution_count": null,
      "outputs": []
    },
    {
      "cell_type": "code",
      "source": [
        "import pandas as pd\n",
        "import matplotlib.pyplot as plt\n",
        "import numpy as np\n",
        "\n",
        "# --- Function: Event-type breakdown ---\n",
        "def plot_event_type_anomalies(df, lstm_mask, title):\n",
        "    df_anom = df.iloc[:len(lstm_mask)][lstm_mask]\n",
        "    event_counts = df_anom['event_type'].value_counts()\n",
        "\n",
        "    plt.figure(figsize=(8,5))\n",
        "    event_counts.plot(kind='bar', color='orange')\n",
        "    plt.title(title)\n",
        "    plt.ylabel('Number of Anomalous Sequences')\n",
        "    plt.xlabel('Event Type')\n",
        "    plt.xticks(rotation=45)\n",
        "    plt.grid(axis='y')\n",
        "    plt.show()\n",
        "\n",
        "# --- Function: User-level anomaly counts ---\n",
        "def plot_user_anomalies(df, lstm_mask, title, top_n=10):\n",
        "    df_anom = df.iloc[:len(lstm_mask)][lstm_mask]\n",
        "    user_counts = df_anom['user_id'].value_counts().head(top_n)\n",
        "\n",
        "    plt.figure(figsize=(8,5))\n",
        "    user_counts.plot(kind='bar', color='green')\n",
        "    plt.title(title)\n",
        "    plt.ylabel('Number of Anomalous Sequences')\n",
        "    plt.xlabel('User ID')\n",
        "    plt.xticks(rotation=45)\n",
        "    plt.grid(axis='y')\n",
        "    plt.show()\n",
        "\n",
        "# --- Function: LSTM vs Isolation Forest comparison ---\n",
        "def plot_lstm_vs_if(df, lstm_mask, if_mask, title):\n",
        "    df_plot = df.iloc[:len(lstm_mask)]\n",
        "    both_mask = np.logical_and(lstm_mask, if_mask)\n",
        "    lstm_only_mask = np.logical_and(lstm_mask, np.logical_not(if_mask))\n",
        "    if_only_mask = np.logical_and(if_mask, np.logical_not(lstm_mask))\n",
        "\n",
        "    counts = [both_mask.sum(), lstm_only_mask.sum(), if_only_mask.sum()]\n",
        "    labels = ['Both LSTM & IF', 'LSTM Only', 'IF Only']\n",
        "\n",
        "    plt.figure(figsize=(8,5))\n",
        "    plt.bar(labels, counts, color=['blue', 'orange', 'green'])\n",
        "    plt.title(title)\n",
        "    plt.ylabel('Number of Sequences')\n",
        "    for i, count in enumerate(counts):\n",
        "        plt.text(i, count + 5, str(count), ha='center')\n",
        "    plt.show()\n",
        "\n",
        "# --- Apply to Food Company ---\n",
        "plot_event_type_anomalies(food_df, food_lstm_only, 'Food Company: Event-type Anomalies')\n",
        "plot_user_anomalies(food_df, food_lstm_only, 'Food Company: Top Users Causing Anomalies')\n",
        "plot_lstm_vs_if(food_df, food_lstm_aligned, food_if_aligned, 'Food Company: LSTM vs Isolation Forest')\n",
        "\n",
        "# --- Apply to IT Solutions ---\n",
        "plot_event_type_anomalies(it_df, it_lstm_only, 'IT Solutions: Event-type Anomalies')\n",
        "plot_user_anomalies(it_df, it_lstm_only, 'IT Solutions: Top Users Causing Anomalies')\n",
        "plot_lstm_vs_if(it_df, it_lstm_aligned, it_if_aligned, 'IT Solutions: LSTM vs Isolation Forest')"
      ],
      "metadata": {
        "id": "MJYMWdCnK7s-"
      },
      "execution_count": null,
      "outputs": []
    },
    {
      "cell_type": "code",
      "source": [
        "import pandas as pd\n",
        "import numpy as np\n",
        "import matplotlib.pyplot as plt\n",
        "import matplotlib.dates as mdates\n",
        "\n",
        "# --- Functions ---\n",
        "def plot_anomalies_over_time(df, lstm_mask, title):\n",
        "    df_anom = df.iloc[:len(lstm_mask)][lstm_mask].copy()\n",
        "    df_anom['timestamp'] = pd.to_datetime(df_anom['timestamp'])\n",
        "    daily_counts = df_anom.groupby(df_anom['timestamp'].dt.date).size()\n",
        "\n",
        "    plt.figure(figsize=(10,5))\n",
        "    plt.plot(daily_counts.index, daily_counts.values, marker='o')\n",
        "    plt.title(title)\n",
        "    plt.xlabel('Date')\n",
        "    plt.ylabel('Number of Anomalies')\n",
        "    plt.xticks(rotation=45)\n",
        "    plt.grid(True)\n",
        "    plt.show()\n",
        "\n",
        "def plot_event_type_anomalies(df, lstm_mask, title):\n",
        "    df_anom = df.iloc[:len(lstm_mask)][lstm_mask]\n",
        "    event_counts = df_anom['event_type'].value_counts()\n",
        "\n",
        "    plt.figure(figsize=(8,5))\n",
        "    event_counts.plot(kind='bar', color='orange')\n",
        "    plt.title(title)\n",
        "    plt.ylabel('Number of Anomalous Sequences')\n",
        "    plt.xlabel('Event Type')\n",
        "    plt.xticks(rotation=45)\n",
        "    plt.grid(axis='y')\n",
        "    plt.show()\n",
        "\n",
        "def plot_user_anomalies(df, lstm_mask, title, top_n=10):\n",
        "    df_anom = df.iloc[:len(lstm_mask)][lstm_mask]\n",
        "    user_counts = df_anom['user_id'].value_counts().head(top_n)\n",
        "\n",
        "    plt.figure(figsize=(8,5))\n",
        "    user_counts.plot(kind='bar', color='green')\n",
        "    plt.title(title)\n",
        "    plt.ylabel('Number of Anomalous Sequences')\n",
        "    plt.xlabel('User ID')\n",
        "    plt.xticks(rotation=45)\n",
        "    plt.grid(axis='y')\n",
        "    plt.show()\n",
        "\n",
        "def plot_lstm_vs_if(df, lstm_mask, if_mask, title):\n",
        "    df_plot = df.iloc[:len(lstm_mask)]\n",
        "    both_mask = np.logical_and(lstm_mask, if_mask)\n",
        "    lstm_only_mask = np.logical_and(lstm_mask, np.logical_not(if_mask))\n",
        "    if_only_mask = np.logical_and(if_mask, np.logical_not(lstm_mask))\n",
        "\n",
        "    counts = [both_mask.sum(), lstm_only_mask.sum(), if_only_mask.sum()]\n",
        "    labels = ['Both LSTM & IF', 'LSTM Only', 'IF Only']\n",
        "\n",
        "    plt.figure(figsize=(8,5))\n",
        "    plt.bar(labels, counts, color=['blue', 'orange', 'green'])\n",
        "    plt.title(title)\n",
        "    plt.ylabel('Number of Sequences')\n",
        "    for i, count in enumerate(counts):\n",
        "        plt.text(i, count + 5, str(count), ha='center')\n",
        "    plt.show()\n",
        "\n",
        "# --- Summary table ---\n",
        "def generate_summary_table(tenant_name, lstm_mask, if_mask):\n",
        "    both_mask = np.logical_and(lstm_mask, if_mask)\n",
        "    lstm_only_mask = np.logical_and(lstm_mask, np.logical_not(if_mask))\n",
        "    if_only_mask = np.logical_and(if_mask, np.logical_not(lstm_mask))\n",
        "\n",
        "    return pd.DataFrame({\n",
        "        'Tenant': [tenant_name],\n",
        "        'Both LSTM & IF': [both_mask.sum()],\n",
        "        'LSTM Only': [lstm_only_mask.sum()],\n",
        "        'IF Only': [if_only_mask.sum()]\n",
        "    })\n",
        "\n",
        "# --- Load DataFrames ---\n",
        "food_df = pd.read_csv('vaultsphere_food.csv')\n",
        "it_df = pd.read_csv('vaultsphere_it.csv')\n",
        "\n",
        "# Assume you already have these masks from previous LSTM/IF steps:\n",
        "# food_lstm_aligned, food_if_aligned, it_lstm_aligned, it_if_aligned\n",
        "# food_lstm_only, it_lstm_only\n",
        "\n",
        "# --- Generate all plots ---\n",
        "# Time-series anomalies\n",
        "plot_anomalies_over_time(food_df, food_lstm_only, 'Food Company: LSTM-only Anomalies Over Time')\n",
        "plot_anomalies_over_time(it_df, it_lstm_only, 'IT Solutions: LSTM-only Anomalies Over Time')\n",
        "\n",
        "# Event-type breakdown\n",
        "plot_event_type_anomalies(food_df, food_lstm_only, 'Food Company: Event-type Anomalies')\n",
        "plot_event_type_anomalies(it_df, it_lstm_only, 'IT Solutions: Event-type Anomalies')\n",
        "\n",
        "# User-level anomalies\n",
        "plot_user_anomalies(food_df, food_lstm_only, 'Food Company: Top Users Causing Anomalies')\n",
        "plot_user_anomalies(it_df, it_lstm_only, 'IT Solutions: Top Users Causing Anomalies')\n",
        "\n",
        "# LSTM vs Isolation Forest comparison\n",
        "plot_lstm_vs_if(food_df, food_lstm_aligned, food_if_aligned, 'Food Company: LSTM vs Isolation Forest')\n",
        "plot_lstm_vs_if(it_df, it_lstm_aligned, it_if_aligned, 'IT Solutions: LSTM vs Isolation Forest')\n",
        "\n",
        "# --- Summary table ---\n",
        "summary_df = pd.concat([\n",
        "    generate_summary_table('Food Company', food_lstm_aligned, food_if_aligned),\n",
        "    generate_summary_table('IT Solutions', it_lstm_aligned, it_if_aligned)\n",
        "], ignore_index=True)\n",
        "\n",
        "print(\"\\n--- Anomaly Summary Table ---\")\n",
        "print(summary_df)\n",
        "\n",
        "# --- Save LSTM-only sequences for further research ---\n",
        "food_df.iloc[:len(food_lstm_only)][food_lstm_only].to_csv('food_lstm_only.csv', index=False)\n",
        "it_df.iloc[:len(it_lstm_only)][it_lstm_only].to_csv('it_lstm_only.csv', index=False)\n",
        "\n",
        "print(\"\\nLSTM-only sequences saved as CSV for both tenants.\")"
      ],
      "metadata": {
        "id": "OnGRs9_ZK7rA"
      },
      "execution_count": null,
      "outputs": []
    },
    {
      "cell_type": "code",
      "source": [
        "from sklearn.metrics import precision_score, recall_score, f1_score\n",
        "\n",
        "def compute_metrics(df, lstm_mask):\n",
        "    \"\"\"\n",
        "    Computes Precision, Recall, F1 for LSTM anomalies\n",
        "    Requires df['anomaly'] as ground-truth labels (1=anomaly, 0=normal)\n",
        "    \"\"\"\n",
        "    if 'anomaly' not in df.columns:\n",
        "        print(\"Ground-truth labels not found. Skipping metrics.\")\n",
        "        return None, None, None\n",
        "\n",
        "    y_true = df.iloc[:len(lstm_mask)]['anomaly'].values\n",
        "    y_pred = lstm_mask.astype(int)\n",
        "\n",
        "    precision = precision_score(y_true, y_pred)\n",
        "    recall = recall_score(y_true, y_pred)\n",
        "    f1 = f1_score(y_true, y_pred)\n",
        "\n",
        "    return precision, recall, f1\n",
        "\n",
        "# Compute metrics for Food Company\n",
        "food_prec, food_rec, food_f1 = compute_metrics(food_df, food_lstm_aligned)\n",
        "# Compute metrics for IT Solutions\n",
        "it_prec, it_rec, it_f1 = compute_metrics(it_df, it_lstm_aligned)\n",
        "\n",
        "print(f\"Food Company - Precision: {food_prec}, Recall: {food_rec}, F1: {food_f1}\")\n",
        "print(f\"IT Solutions - Precision: {it_prec}, Recall: {it_rec}, F1: {it_f1}\")"
      ],
      "metadata": {
        "id": "izRsJ_qTLrnL"
      },
      "execution_count": null,
      "outputs": []
    },
    {
      "cell_type": "code",
      "source": [
        "# Create pseudo ground-truth for Food Company\n",
        "food_df['anomaly'] = 0\n",
        "# Only mark the rows corresponding to the LSTM-only sequences\n",
        "food_indices = np.where(food_lstm_only)[0]  # get indices of True values\n",
        "food_df.iloc[food_indices, food_df.columns.get_loc('anomaly')] = 1\n",
        "\n",
        "# Create pseudo ground-truth for IT Solutions\n",
        "it_df['anomaly'] = 0\n",
        "it_indices = np.where(it_lstm_only)[0]\n",
        "it_df.iloc[it_indices, it_df.columns.get_loc('anomaly')] = 1\n",
        "\n",
        "print(\"Pseudo ground-truth column added.\")"
      ],
      "metadata": {
        "id": "vR7dUzJ4MBXY"
      },
      "execution_count": null,
      "outputs": []
    },
    {
      "cell_type": "code",
      "source": [
        "from sklearn.metrics import precision_score, recall_score, f1_score\n",
        "\n",
        "# Align LSTM predictions with DataFrame\n",
        "seq_length = 10  # same as used to create sequences\n",
        "\n",
        "y_true_food = food_df['anomaly'].values[seq_length:]\n",
        "y_pred_food = food_lstm_only  # already seq_length-adjusted\n",
        "\n",
        "y_true_it = it_df['anomaly'].values[seq_length:]\n",
        "y_pred_it = it_lstm_only\n",
        "\n",
        "# Compute metrics\n",
        "food_prec = precision_score(y_true_food, y_pred_food)\n",
        "food_rec = recall_score(y_true_food, y_pred_food)\n",
        "food_f1 = f1_score(y_true_food, y_pred_food)\n",
        "\n",
        "it_prec = precision_score(y_true_it, y_pred_it)\n",
        "it_rec = recall_score(y_true_it, y_pred_it)\n",
        "it_f1 = f1_score(y_true_it, y_pred_it)\n",
        "\n",
        "print(f\"Food Company - Precision: {food_prec:.3f}, Recall: {food_rec:.3f}, F1: {food_f1:.3f}\")\n",
        "print(f\"IT Solutions - Precision: {it_prec:.3f}, Recall: {it_rec:.3f}, F1: {it_f1:.3f}\")"
      ],
      "metadata": {
        "id": "lDA6bCDzMNYA"
      },
      "execution_count": null,
      "outputs": []
    },
    {
      "cell_type": "code",
      "source": [
        "# Food Company\n",
        "food_anom_events = food_df.iloc[seq_length:][food_lstm_only]['event_type']\n",
        "food_event_counts = food_anom_events.value_counts()\n",
        "print(\"Food Company - Event-type Anomalies:\\n\", food_event_counts)\n",
        "\n",
        "# IT Solutions\n",
        "it_anom_events = it_df.iloc[seq_length:][it_lstm_only]['event_type']\n",
        "it_event_counts = it_anom_events.value_counts()\n",
        "print(\"IT Solutions - Event-type Anomalies:\\n\", it_event_counts)\n"
      ],
      "metadata": {
        "id": "E0BqYGeNMUWX"
      },
      "execution_count": null,
      "outputs": []
    },
    {
      "cell_type": "code",
      "source": [
        "# Food Company\n",
        "food_anom_users = food_df.iloc[seq_length:][food_lstm_only]['user_id']\n",
        "food_user_counts = food_anom_users.value_counts().head(10)\n",
        "print(\"Top anomalous users (Food Company):\\n\", food_user_counts)\n",
        "\n",
        "# IT Solutions\n",
        "it_anom_users = it_df.iloc[seq_length:][it_lstm_only]['user_id']\n",
        "it_user_counts = it_anom_users.value_counts().head(10)\n",
        "print(\"Top anomalous users (IT Solutions):\\n\", it_user_counts)"
      ],
      "metadata": {
        "id": "IyPjgwZ2MkkK"
      },
      "execution_count": null,
      "outputs": []
    },
    {
      "cell_type": "code",
      "source": [
        "# Food Company\n",
        "both_food = np.logical_and(food_lstm_only, food_if_aligned)\n",
        "lstm_only_food = np.logical_and(food_lstm_only, food_if_aligned == 0)\n",
        "if_only_food = np.logical_and(food_if_aligned, food_lstm_only == 0)\n",
        "\n",
        "plt.figure(figsize=(10,5))\n",
        "plt.bar(['Both', 'LSTM-only', 'IF-only'],\n",
        "        [both_food.sum(), lstm_only_food.sum(), if_only_food.sum()])\n",
        "plt.title('Food Company: LSTM vs Isolation Forest')\n",
        "plt.ylabel('Number of Sequences')\n",
        "plt.show()\n",
        "\n",
        "# IT Solutions\n",
        "both_it = np.logical_and(it_lstm_only, it_if_aligned)\n",
        "lstm_only_it = np.logical_and(it_lstm_only, it_if_aligned == 0)\n",
        "if_only_it = np.logical_and(it_if_aligned, it_lstm_only == 0)\n",
        "\n",
        "plt.figure(figsize=(10,5))\n",
        "plt.bar(['Both', 'LSTM-only', 'IF-only'],\n",
        "        [both_it.sum(), lstm_only_it.sum(), if_only_it.sum()])\n",
        "plt.title('IT Solutions: LSTM vs Isolation Forest')\n",
        "plt.ylabel('Number of Sequences')\n",
        "plt.show()"
      ],
      "metadata": {
        "id": "Hz8VfI5hM8c1"
      },
      "execution_count": null,
      "outputs": []
    },
    {
      "cell_type": "code",
      "source": [
        "# Mark pseudo-ground-truth anomalies based on failed events\n",
        "food_df['anomaly_gt'] = (food_df['status'] != 'SUCCESS').astype(int)\n",
        "it_df['anomaly_gt'] = (it_df['status'] != 'SUCCESS').astype(int)\n",
        "\n",
        "# Align lengths for sequence-based LSTM mask\n",
        "def compute_metrics_from_mask(df, lstm_mask, gt_col='anomaly_gt'):\n",
        "    y_true = df[gt_col].values[:len(lstm_mask)]\n",
        "    y_pred = lstm_mask[:len(y_true)].astype(int)\n",
        "\n",
        "    from sklearn.metrics import precision_score, recall_score, f1_score\n",
        "    precision = precision_score(y_true, y_pred)\n",
        "    recall = recall_score(y_true, y_pred)\n",
        "    f1 = f1_score(y_true, y_pred)\n",
        "    return precision, recall, f1\n",
        "\n",
        "food_prec, food_rec, food_f1 = compute_metrics_from_mask(food_df, food_lstm_only)\n",
        "it_prec, it_rec, it_f1 = compute_metrics_from_mask(it_df, it_lstm_only)\n",
        "\n",
        "print(f\"Food Company - Precision: {food_prec:.3f}, Recall: {food_rec:.3f}, F1: {food_f1:.3f}\")\n",
        "print(f\"IT Solutions - Precision: {it_prec:.3f}, Recall: {it_rec:.3f}, F1: {it_f1:.3f}\")"
      ],
      "metadata": {
        "id": "SM3auKSANM5Q"
      },
      "execution_count": null,
      "outputs": []
    },
    {
      "cell_type": "code",
      "source": [
        "print(\"Upload vaultsphere_food.csv and vaultsphere_it.csv\")\n",
        "uploaded = files.upload()"
      ],
      "metadata": {
        "id": "1xBQBpPWNn_3"
      },
      "execution_count": null,
      "outputs": []
    },
    {
      "cell_type": "code",
      "source": [
        "print(\"Upload vaultsphere_food.csv and vaultsphere_it.csv\")\n",
        "uploaded = files.upload()"
      ],
      "metadata": {
        "id": "dE1npLW7P8GM"
      },
      "execution_count": null,
      "outputs": []
    },
    {
      "cell_type": "code",
      "source": [
        "# Load the datasets\n",
        "food_df = pd.read_csv('vaultsphere_food.csv')\n",
        "it_df = pd.read_csv('vaultsphere_it.csv')\n",
        "\n",
        "# Check columns\n",
        "print(\"Food Company columns:\", food_df.columns)\n",
        "print(\"IT Solutions columns:\", it_df.columns)\n",
        "\n",
        "# Quick preview\n",
        "print(food_df.head())\n",
        "print(it_df.head())"
      ],
      "metadata": {
        "id": "KYKeRa-iQElD"
      },
      "execution_count": null,
      "outputs": []
    },
    {
      "cell_type": "code",
      "source": [
        "import numpy as np\n",
        "import pandas as pd\n",
        "from sklearn.preprocessing import OneHotEncoder, MinMaxScaler, LabelEncoder\n",
        "from sklearn.ensemble import IsolationForest\n",
        "from sklearn.metrics import accuracy_score, precision_score, recall_score, f1_score\n",
        "from tensorflow.keras.models import Sequential\n",
        "from tensorflow.keras.layers import LSTM, RepeatVector, TimeDistributed, Dense\n",
        "from tensorflow.keras.optimizers import Adam\n",
        "import matplotlib.pyplot as plt\n",
        "\n",
        "# --- Load datasets ---\n",
        "food_df = pd.read_csv('vaultsphere_food.csv')\n",
        "it_df = pd.read_csv('vaultsphere_it.csv')\n",
        "\n",
        "# --- Prepare sequences ---\n",
        "def prepare_sequences(df, cat_cols, seq_length=10):\n",
        "    encoder = OneHotEncoder(sparse_output=False, handle_unknown='ignore')\n",
        "    cat_data = encoder.fit_transform(df[cat_cols])\n",
        "    df['resource_id_enc'] = LabelEncoder().fit_transform(df['resource_id'])\n",
        "    num_data = df[['resource_id_enc']].values\n",
        "    X = np.hstack([num_data, cat_data])\n",
        "    X_scaled = MinMaxScaler().fit_transform(X)\n",
        "    sequences = []\n",
        "    for i in range(len(X_scaled) - seq_length):\n",
        "        sequences.append(X_scaled[i:i+seq_length])\n",
        "    return np.array(sequences)\n",
        "\n",
        "seq_length = 10\n",
        "cat_cols = ['event_type', 'status']\n",
        "\n",
        "X_food_seq = prepare_sequences(food_df, cat_cols, seq_length)\n",
        "X_it_seq = prepare_sequences(it_df, cat_cols, seq_length)\n",
        "\n",
        "# --- Build LSTM Autoencoder ---\n",
        "def build_lstm_autoencoder(timesteps, features):\n",
        "    model = Sequential([\n",
        "        LSTM(64, activation='relu', input_shape=(timesteps, features), return_sequences=False),\n",
        "        RepeatVector(timesteps),\n",
        "        LSTM(64, activation='relu', return_sequences=True),\n",
        "        TimeDistributed(Dense(features))\n",
        "    ])\n",
        "    model.compile(optimizer=Adam(0.001), loss='mse')\n",
        "    return model\n",
        "\n",
        "timesteps, features = X_food_seq.shape[1], X_food_seq.shape[2]\n",
        "food_model = build_lstm_autoencoder(timesteps, features)\n",
        "it_model = build_lstm_autoencoder(timesteps, features)\n",
        "\n",
        "# --- Train LSTM models ---\n",
        "food_model.fit(X_food_seq, X_food_seq, epochs=20, batch_size=256, validation_split=0.1)\n",
        "it_model.fit(X_it_seq, X_it_seq, epochs=20, batch_size=256, validation_split=0.1)\n",
        "\n",
        "# --- Detect anomalies ---\n",
        "def detect_lstm_anomalies(model, X_seq, percentile=95):\n",
        "    X_pred = model.predict(X_seq)\n",
        "    mse = np.mean(np.power(X_seq - X_pred, 2), axis=(1,2))\n",
        "    threshold = np.percentile(mse, percentile)\n",
        "    anomalies = mse > threshold\n",
        "    return anomalies\n",
        "\n",
        "food_lstm_anom = detect_lstm_anomalies(food_model, X_food_seq)\n",
        "it_lstm_anom = detect_lstm_anomalies(it_model, X_it_seq)\n",
        "\n",
        "def detect_if_anomalies(df, cat_cols):\n",
        "    encoder = OneHotEncoder(sparse_output=False, handle_unknown='ignore')\n",
        "    cat_data = encoder.fit_transform(df[cat_cols])\n",
        "    df['resource_id_enc'] = LabelEncoder().fit_transform(df['resource_id'])\n",
        "    num_data = df[['resource_id_enc']].values\n",
        "    X = np.hstack([num_data, cat_data])\n",
        "    X_scaled = MinMaxScaler().fit_transform(X)\n",
        "\n",
        "    iso = IsolationForest(n_estimators=100, contamination=0.05, random_state=42)\n",
        "    iso.fit(X_scaled)\n",
        "    y_pred = iso.predict(X_scaled)\n",
        "    y_pred = np.array([0 if i==1 else 1 for i in y_pred])\n",
        "    return y_pred\n",
        "\n",
        "food_if_anom = detect_if_anomalies(food_df, cat_cols)\n",
        "it_if_anom = detect_if_anomalies(it_df, cat_cols)\n",
        "\n",
        "# --- Align lengths for LSTM vs IF comparison ---\n",
        "min_food_len = min(len(food_lstm_anom), len(food_if_anom))\n",
        "food_lstm_aligned = food_lstm_anom[:min_food_len]\n",
        "food_if_aligned = food_if_anom[:min_food_len]\n",
        "\n",
        "min_it_len = min(len(it_lstm_anom), len(it_if_anom))\n",
        "it_lstm_aligned = it_lstm_anom[:min_it_len]\n",
        "it_if_aligned = it_if_anom[:min_it_len]\n",
        "\n",
        "# --- Compute metrics using ground-truth 'anomaly_injected' ---\n",
        "def compute_metrics(df, lstm_mask):\n",
        "    y_true = df['anomaly_injected'].values[:len(lstm_mask)]\n",
        "    y_pred = lstm_mask.astype(int)\n",
        "    acc = accuracy_score(y_true, y_pred)\n",
        "    prec = precision_score(y_true, y_pred)\n",
        "    rec = recall_score(y_true, y_pred)\n",
        "    f1 = f1_score(y_true, y_pred)\n",
        "    return acc, prec, rec, f1\n",
        "\n",
        "food_acc, food_prec, food_rec, food_f1 = compute_metrics(food_df, food_lstm_aligned)\n",
        "it_acc, it_prec, it_rec, it_f1 = compute_metrics(it_df, it_lstm_aligned)\n",
        "\n",
        "print(f\"Food Company - Accuracy: {food_acc:.3f}, Precision: {food_prec:.3f}, Recall: {food_rec:.3f}, F1: {food_f1:.3f}\")\n",
        "print(f\"IT Solutions - Accuracy: {it_acc:.3f}, Precision: {it_prec:.3f}, Recall: {it_rec:.3f}, F1: {it_f1:.3f}\")\n",
        "\n",
        "# --- LSTM-only anomalies ---\n",
        "food_lstm_only = np.logical_and(food_lstm_aligned, food_if_aligned == 0)\n",
        "it_lstm_only = np.logical_and(it_lstm_aligned, it_if_aligned == 0)\n",
        "\n",
        "# --- Plot LSTM vs IF anomalies ---\n",
        "x_labels = ['Isolation Forest', 'LSTM', 'LSTM-only']\n",
        "food_counts = [food_if_aligned.sum(), food_lstm_aligned.sum(), food_lstm_only.sum()]\n",
        "it_counts = [it_if_aligned.sum(), it_lstm_aligned.sum(), it_lstm_only.sum()]\n",
        "\n",
        "x = np.arange(len(x_labels))\n",
        "width = 0.35\n",
        "fig, ax = plt.subplots(figsize=(8,5))\n",
        "rects1 = ax.bar(x - width/2, food_counts, width, label='Food Company')\n",
        "rects2 = ax.bar(x + width/2, it_counts, width, label='IT Solutions')\n",
        "ax.set_ylabel('Number of Anomalous Sequences')\n",
        "ax.set_title('LSTM vs Isolation Forest Anomalies')\n",
        "ax.set_xticks(x)\n",
        "ax.set_xticklabels(x_labels)\n",
        "ax.legend()\n",
        "for rect in rects1 + rects2:\n",
        "    height = rect.get_height()\n",
        "    ax.annotate(f'{height}', xy=(rect.get_x() + rect.get_width()/2, height),\n",
        "                xytext=(0,3), textcoords='offset points', ha='center', va='bottom')\n",
        "plt.show()"
      ],
      "metadata": {
        "id": "MczVxW6VQKGw"
      },
      "execution_count": null,
      "outputs": []
    },
    {
      "cell_type": "code",
      "source": [
        "import matplotlib.pyplot as plt\n",
        "import pandas as pd\n",
        "\n",
        "df = food_df.copy()\n",
        "df['timestamp'] = pd.to_datetime(df['timestamp'])\n",
        "df_anom = df.iloc[:len(food_lstm_only)][food_lstm_only]\n",
        "\n",
        "daily_counts = df_anom.groupby(df_anom['timestamp'].dt.date).size()\n",
        "\n",
        "plt.figure(figsize=(10,5))\n",
        "plt.plot(daily_counts.index, daily_counts.values, marker='o', color='red')\n",
        "plt.title(\"Food Company: LSTM-detected Anomalies Over Time\")\n",
        "plt.xlabel(\"Date\")\n",
        "plt.ylabel(\"Number of Anomalies\")\n",
        "plt.xticks(rotation=45)\n",
        "plt.grid(True)\n",
        "plt.tight_layout()\n",
        "plt.savefig(\"1_food_anomalies_over_time.png\", dpi=300)\n",
        "plt.show()"
      ],
      "metadata": {
        "id": "LtPQoAL-QoEe"
      },
      "execution_count": null,
      "outputs": []
    },
    {
      "cell_type": "code",
      "source": [
        "df = it_df.copy()\n",
        "df['timestamp'] = pd.to_datetime(df['timestamp'])\n",
        "df_anom = df.iloc[:len(it_lstm_only)][it_lstm_only]\n",
        "\n",
        "daily_counts = df_anom.groupby(df_anom['timestamp'].dt.date).size()\n",
        "\n",
        "plt.figure(figsize=(10,5))\n",
        "plt.plot(daily_counts.index, daily_counts.values, marker='o', color='blue')\n",
        "plt.title(\"IT Solutions: LSTM-detected Anomalies Over Time\")\n",
        "plt.xlabel(\"Date\")\n",
        "plt.ylabel(\"Number of Anomalies\")\n",
        "plt.xticks(rotation=45)\n",
        "plt.grid(True)\n",
        "plt.tight_layout()\n",
        "plt.savefig(\"2_it_anomalies_over_time.png\", dpi=300)\n",
        "plt.show()"
      ],
      "metadata": {
        "id": "FW2QlobSknMS"
      },
      "execution_count": null,
      "outputs": []
    },
    {
      "cell_type": "code",
      "source": [
        "event_counts = df_anom['event_type'].value_counts()\n",
        "\n",
        "plt.figure(figsize=(8,5))\n",
        "event_counts.plot(kind='bar', color='orange')\n",
        "plt.title(\"Food Company: Event-Type Breakdown of Anomalies\")\n",
        "plt.xlabel(\"Event Type\")\n",
        "plt.ylabel(\"Number of Anomalies\")\n",
        "plt.xticks(rotation=45)\n",
        "plt.tight_layout()\n",
        "plt.savefig(\"3_food_event_type_breakdown.png\", dpi=300)\n",
        "plt.show()"
      ],
      "metadata": {
        "id": "GEJrV3ZJkxLK"
      },
      "execution_count": null,
      "outputs": []
    },
    {
      "cell_type": "code",
      "source": [
        "event_counts = df_anom['event_type'].value_counts()\n",
        "\n",
        "plt.figure(figsize=(8,5))\n",
        "event_counts.plot(kind='bar', color='green')\n",
        "plt.title(\"IT Solutions: Event-Type Breakdown of Anomalies\")\n",
        "plt.xlabel(\"Event Type\")\n",
        "plt.ylabel(\"Number of Anomalies\")\n",
        "plt.xticks(rotation=45)\n",
        "plt.tight_layout()\n",
        "plt.savefig(\"4_it_event_type_breakdown.png\", dpi=300)\n",
        "plt.show()"
      ],
      "metadata": {
        "id": "sDldV3llk2R3"
      },
      "execution_count": null,
      "outputs": []
    },
    {
      "cell_type": "code",
      "source": [
        "user_counts = df_anom['user_id'].value_counts()\n",
        "\n",
        "plt.figure(figsize=(10,5))\n",
        "user_counts.plot(kind='bar', color='purple')\n",
        "plt.title(\"Food Company: User-Level Anomaly Counts\")\n",
        "plt.xlabel(\"User ID\")\n",
        "plt.ylabel(\"Number of Anomalies\")\n",
        "plt.xticks(rotation=90)\n",
        "plt.tight_layout()\n",
        "plt.savefig(\"5_food_user_level_anomalies.png\", dpi=300)\n",
        "plt.show()"
      ],
      "metadata": {
        "id": "3dV2LQlik7eZ"
      },
      "execution_count": null,
      "outputs": []
    },
    {
      "cell_type": "code",
      "source": [
        "user_counts = df_anom['user_id'].value_counts()\n",
        "\n",
        "plt.figure(figsize=(10,5))\n",
        "user_counts.plot(kind='bar', color='brown')\n",
        "plt.title(\"IT Solutions: User-Level Anomaly Counts\")\n",
        "plt.xlabel(\"User ID\")\n",
        "plt.ylabel(\"Number of Anomalies\")\n",
        "plt.xticks(rotation=90)\n",
        "plt.tight_layout()\n",
        "plt.savefig(\"6_it_user_level_anomalies.png\", dpi=300)\n",
        "plt.show()"
      ],
      "metadata": {
        "id": "DF6YpUuwlAgy"
      },
      "execution_count": null,
      "outputs": []
    },
    {
      "cell_type": "code",
      "source": [
        "combined_anom = pd.concat([food_df.iloc[:len(food_lstm_only)][food_lstm_only],\n",
        "                            it_df.iloc[:len(it_lstm_only)][it_lstm_only]])\n",
        "\n",
        "type_counts = combined_anom['event_type'].value_counts()\n",
        "\n",
        "plt.figure(figsize=(7,7))\n",
        "type_counts.plot(kind='pie', autopct='%1.1f%%', startangle=140, colormap='tab20')\n",
        "plt.title(\"Combined Event-Type Distribution of Anomalies\")\n",
        "plt.ylabel(\"\")\n",
        "plt.tight_layout()\n",
        "plt.savefig(\"7_combined_event_type_pie.png\", dpi=300)\n",
        "plt.show()"
      ],
      "metadata": {
        "id": "2VHnIR3YlE8i"
      },
      "execution_count": null,
      "outputs": []
    },
    {
      "cell_type": "code",
      "source": [
        "import pandas as pd\n",
        "\n",
        "# Load the CSV\n",
        "df = pd.read_csv(\"synthetic_vaultsphere_logs.csv\")\n",
        "\n",
        "# Check the columns\n",
        "print(df.columns)\n",
        "\n",
        "# If the anomaly column exists under a different name, replace 'anomaly_injected' with the correct name\n",
        "# If it doesn't exist, we can create a label column for testing:\n",
        "# For demonstration, mark all 'FAILED' events as anomalies\n",
        "if 'anomaly_injected' not in df.columns:\n",
        "    df['anomaly_injected'] = df['status'].apply(lambda x: 1 if x=='FAILED' else 0)\n",
        "\n",
        "print(df.head())"
      ],
      "metadata": {
        "id": "QaCOPTPspZ5n"
      },
      "execution_count": null,
      "outputs": []
    },
    {
      "cell_type": "code",
      "source": [
        "# -----------------------------\n",
        "# Step 1: Load & preprocess data\n",
        "# -----------------------------\n",
        "import pandas as pd\n",
        "import numpy as np\n",
        "from sklearn.preprocessing import MinMaxScaler\n",
        "from sklearn.model_selection import train_test_split\n",
        "\n",
        "# Load CSV\n",
        "df = pd.read_csv(\"synthetic_vaultsphere_logs.csv\")\n",
        "\n",
        "# Check columns\n",
        "print(df.columns)\n",
        "\n",
        "# Create anomaly label if it doesn't exist\n",
        "if 'anomaly_injected' not in df.columns:\n",
        "    # Example: mark FAILED events as anomalies\n",
        "    df['anomaly_injected'] = df['status'].apply(lambda x: 1 if x == 'FAILED' else 0)\n",
        "\n",
        "# Select features\n",
        "features = ['event_type', 'status', 'resource_id']\n",
        "X = pd.get_dummies(df[features])  # one-hot encode categorical features\n",
        "y = df['anomaly_injected'].values\n",
        "\n",
        "# Split chronologically (time-aware split)\n",
        "split_idx = int(0.7 * len(X))\n",
        "X_train, X_test = X.values[:split_idx], X.values[split_idx:]\n",
        "y_train, y_test = y[:split_idx], y[split_idx:]\n",
        "\n",
        "print(\"Shapes:\", X_train.shape, X_test.shape, y_train.shape, y_test.shape)"
      ],
      "metadata": {
        "id": "8K1lRWdyp7xi"
      },
      "execution_count": null,
      "outputs": []
    },
    {
      "cell_type": "code",
      "source": [],
      "metadata": {
        "id": "ym3KxNzPqVwI"
      },
      "execution_count": null,
      "outputs": []
    }
  ]
}